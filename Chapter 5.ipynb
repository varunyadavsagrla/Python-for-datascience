{
 "cells": [
  {
   "cell_type": "markdown",
   "id": "fd203dd6",
   "metadata": {},
   "source": [
    "# Control statements\n",
    "\n",
    "When we write a progran, the statements in the program are normally executed one by one. This type of execution is called \"sequential execution\". This type od excecution is suitable only for developing simple programs. It is not suitable for developing critical programs where complex logic is needed.\n",
    "\n",
    "The following are the control statements available in python:\n",
    "\n",
    "1. if statement\n",
    "\n",
    "2. if....else statement\n",
    "\n",
    "3. if...elif...else statement\n",
    "\n",
    "4. while loop\n",
    "\n",
    "5. for loop\n",
    "\n",
    "6. break statement\n",
    "\n",
    "7. continue statement\n",
    "\n",
    "8. pass statement\n",
    "\n",
    "9. return statement"
   ]
  },
  {
   "cell_type": "markdown",
   "id": "7a4cd4e2",
   "metadata": {},
   "source": [
    "# The if statement\n",
    "\n",
    "The statement is used to excute one or more statements depending on whether a condintion is true or not. The syntax of if statement is given below.\n",
    "\n",
    "if conditions:\n",
    "    statements\n",
    "    "
   ]
  },
  {
   "cell_type": "code",
   "execution_count": 2,
   "id": "a3727345",
   "metadata": {
    "ExecuteTime": {
     "end_time": "2022-12-12T06:25:49.479129Z",
     "start_time": "2022-12-12T06:25:49.459521Z"
    }
   },
   "outputs": [
    {
     "name": "stdout",
     "output_type": "stream",
     "text": [
      "yes\n",
      "Thsi is waht you said\n",
      "your response is good\n"
     ]
    }
   ],
   "source": [
    "# python programm to display group of messages when the condition is true\n",
    "str = 'yes'\n",
    "if str =='yes':\n",
    "    print(\"yes\")\n",
    "    print(\"Thsi is waht you said\")\n",
    "    print(\"your response is good\")\n",
    "    "
   ]
  },
  {
   "cell_type": "markdown",
   "id": "8d8e281b",
   "metadata": {},
   "source": [
    "# A word on Indentation\n",
    "\n",
    "Understanding indentation is very important in python. Indentation refers to spaces that are used in the beggining of a statement. The statement with same indentation below to same group is called a suite. By default, python uses 4 sapces but it can be increases or decreased by the programmers."
   ]
  },
  {
   "cell_type": "markdown",
   "id": "dcc9883c",
   "metadata": {},
   "source": [
    "# The if....else statement\n",
    "The if else statement excutes a group of statements when a condition is True; otherwise it will execute another group of statements. The syntax of if...else statement is given below:\n",
    "\n",
    "if condition:\n",
    "    statement1\n",
    "\n",
    "else:\n",
    "    statement2"
   ]
  },
  {
   "cell_type": "code",
   "execution_count": 4,
   "id": "ada62ebb",
   "metadata": {
    "ExecuteTime": {
     "end_time": "2022-12-12T06:44:02.215351Z",
     "start_time": "2022-12-12T06:43:59.948590Z"
    }
   },
   "outputs": [
    {
     "name": "stdout",
     "output_type": "stream",
     "text": [
      "enter a number:31\n",
      "31 is odd number\n"
     ]
    }
   ],
   "source": [
    "# python program to accept a number from keyboard and test whetehr is even or odd\n",
    "x = int(input('enter a number:'))\n",
    "if x%2 == 0:\n",
    "    print(x,\"is even number\")\n",
    "else:\n",
    "    print(x,\"is odd number\")"
   ]
  },
  {
   "cell_type": "code",
   "execution_count": 5,
   "id": "49867841",
   "metadata": {
    "ExecuteTime": {
     "end_time": "2022-12-12T06:47:09.867498Z",
     "start_time": "2022-12-12T06:47:06.193553Z"
    }
   },
   "outputs": [
    {
     "name": "stdout",
     "output_type": "stream",
     "text": [
      "enter a number:4\n",
      "4 which is between 1 and 10\n"
     ]
    }
   ],
   "source": [
    "# Python program to test whether a given number is in between 1 and 10.\n",
    "x = int(input('enter a number:'))\n",
    "if x>=1 and x<=10:\n",
    "    print(x,\"which is between 1 and 10\")\n",
    "else:\n",
    "    print(x,\"which is below 1 or above 10\")"
   ]
  },
  {
   "cell_type": "markdown",
   "id": "9f374b2b",
   "metadata": {},
   "source": [
    "# The if.....elif...else staement\n",
    "\n",
    "Sometimes, the programmer has to test multiple conditions and excute statements depending on those conditions.if...elif....else statement is useful in such situations.What does this word 'elif' mean? it is nothing but else+if. It is combination of else with if statement. The folloeing syntax of if...elif...else statement:\n",
    "\n",
    "if condition1:\n",
    "    statement1\n",
    "    \n",
    "elif condition2:\n",
    "     statement2\n",
    "     \n",
    "elif condition3:\n",
    "    statement 3\n",
    "\n",
    "else:\n",
    "    statement 4"
   ]
  },
  {
   "cell_type": "code",
   "execution_count": 6,
   "id": "8897b97e",
   "metadata": {
    "ExecuteTime": {
     "end_time": "2022-12-12T07:12:24.098679Z",
     "start_time": "2022-12-12T07:12:24.081714Z"
    }
   },
   "outputs": [
    {
     "name": "stdout",
     "output_type": "stream",
     "text": [
      "5 is positive\n"
     ]
    }
   ],
   "source": [
    "# A python program to know if a given number is zero, positive or negative\n",
    "num = 5\n",
    "if num == 0:\n",
    "    print(num,\"is zero\")\n",
    "elif num>0:\n",
    "    print(num,\"is positive\")\n",
    "else:\n",
    "    print(num,\"is negative\")"
   ]
  },
  {
   "cell_type": "code",
   "execution_count": 9,
   "id": "d6264ab2",
   "metadata": {
    "ExecuteTime": {
     "end_time": "2022-12-12T09:23:07.898076Z",
     "start_time": "2022-12-12T09:23:05.608061Z"
    }
   },
   "outputs": [
    {
     "name": "stdout",
     "output_type": "stream",
     "text": [
      "Enter a digit:4\n",
      "four\n"
     ]
    }
   ],
   "source": [
    "# A  python program to accept number digit from keyboard and display in words\n",
    "x = int(input('Enter a digit:'))\n",
    "if x==0:print(\"Zero\")\n",
    "elif x==1:print(\"one\")\n",
    "elif x==2:print(\"two\")\n",
    "elif x==3:print(\"three\")\n",
    "elif x==4:print(\"four\")\n",
    "elif x==5:print(\"five\")\n",
    "else:\n",
    "    print(\"enter the number between 1 to 5:\",x)"
   ]
  },
  {
   "cell_type": "markdown",
   "id": "36510a17",
   "metadata": {},
   "source": [
    "# The while loop\n",
    "\n",
    "A statement is excuted only once from top to bottom. for example, 'if' is a statement that is excuted by python interpreter only once. When we want to excute statements repeatedly for several times, then we need a loop.There are 2 looping statement in python. They are\n",
    "\n",
    "1. While loop: syntax for while loop\n",
    "\n",
    "while condition:\n",
    "    statements\n",
    "\n",
    "2. For loop"
   ]
  },
  {
   "cell_type": "code",
   "execution_count": 11,
   "id": "9c3157a7",
   "metadata": {
    "ExecuteTime": {
     "end_time": "2022-12-12T09:27:51.216977Z",
     "start_time": "2022-12-12T09:27:51.197031Z"
    }
   },
   "outputs": [
    {
     "name": "stdout",
     "output_type": "stream",
     "text": [
      "1\n",
      "2\n",
      "3\n",
      "4\n",
      "5\n",
      "6\n",
      "7\n",
      "8\n",
      "9\n",
      "10\n",
      "end\n"
     ]
    }
   ],
   "source": [
    "#program to display numbers from 1 to 10\n",
    "x=1\n",
    "while x<=10:\n",
    "    print(x)\n",
    "    x+=1\n",
    "print(\"end\")"
   ]
  },
  {
   "cell_type": "code",
   "execution_count": 12,
   "id": "9631b909",
   "metadata": {
    "ExecuteTime": {
     "end_time": "2022-12-12T09:30:43.987806Z",
     "start_time": "2022-12-12T09:30:43.974870Z"
    }
   },
   "outputs": [
    {
     "name": "stdout",
     "output_type": "stream",
     "text": [
      "100\n",
      "102\n",
      "104\n",
      "106\n",
      "108\n",
      "110\n",
      "112\n",
      "114\n",
      "116\n",
      "118\n",
      "120\n",
      "122\n",
      "124\n",
      "126\n",
      "128\n",
      "130\n",
      "132\n",
      "134\n",
      "136\n",
      "138\n",
      "140\n",
      "142\n",
      "144\n",
      "146\n",
      "148\n",
      "150\n",
      "152\n",
      "154\n",
      "156\n",
      "158\n",
      "160\n",
      "162\n",
      "164\n",
      "166\n",
      "168\n",
      "170\n",
      "172\n",
      "174\n",
      "176\n",
      "178\n",
      "180\n",
      "182\n",
      "184\n",
      "186\n",
      "188\n",
      "190\n",
      "192\n",
      "194\n",
      "196\n",
      "198\n",
      "200\n"
     ]
    }
   ],
   "source": [
    "#program to display even numbers between 100 and 200\n",
    "x = 100\n",
    "while x>=100 and x<=200:\n",
    "    print(x)\n",
    "    x+=2"
   ]
  },
  {
   "cell_type": "markdown",
   "id": "3e352fc9",
   "metadata": {},
   "source": [
    "# The for loop\n",
    "\n",
    "The for loop is useful to literate over the elements of a sequence. it means , for loop used to excute a group of statements repeatedly depending upon the number of elements in the sequence.for loop can work with sequence like string, list, tuple, range,arrays etc. The syntax for for loop is given below.\n",
    "\n",
    "for var in sequence:\n",
    "\n",
    "    statements"
   ]
  },
  {
   "cell_type": "code",
   "execution_count": 1,
   "id": "40289498",
   "metadata": {
    "ExecuteTime": {
     "end_time": "2022-12-12T10:15:38.360864Z",
     "start_time": "2022-12-12T10:15:38.332248Z"
    }
   },
   "outputs": [
    {
     "name": "stdout",
     "output_type": "stream",
     "text": [
      "v\n",
      "a\n",
      "r\n",
      "u\n",
      "n\n",
      " \n",
      "y\n",
      "a\n",
      "d\n",
      "a\n",
      "v\n"
     ]
    }
   ],
   "source": [
    "# program to display each characters from a string\n",
    "Name = 'varun yadav'\n",
    "for ch in Name:\n",
    "    print(ch)"
   ]
  },
  {
   "cell_type": "code",
   "execution_count": 3,
   "id": "a1479245",
   "metadata": {
    "ExecuteTime": {
     "end_time": "2022-12-12T13:07:14.803291Z",
     "start_time": "2022-12-12T13:07:14.786582Z"
    }
   },
   "outputs": [
    {
     "name": "stdout",
     "output_type": "stream",
     "text": [
      "1\n",
      "3\n",
      "5\n",
      "7\n",
      "9\n"
     ]
    }
   ],
   "source": [
    "# program to display odd numbers between 1 to 10\n",
    "for i in range(1,10,2):\n",
    "    print(i)"
   ]
  },
  {
   "cell_type": "code",
   "execution_count": 6,
   "id": "ab8145e5",
   "metadata": {
    "ExecuteTime": {
     "end_time": "2022-12-12T13:09:11.917114Z",
     "start_time": "2022-12-12T13:09:11.902703Z"
    }
   },
   "outputs": [
    {
     "name": "stdout",
     "output_type": "stream",
     "text": [
      "10\n",
      "9\n",
      "8\n",
      "7\n",
      "6\n",
      "5\n",
      "4\n",
      "3\n",
      "2\n",
      "1\n"
     ]
    }
   ],
   "source": [
    "# program to display numbers in descending order\n",
    "for i in range(10,0,-1):\n",
    "    print(i)"
   ]
  },
  {
   "cell_type": "code",
   "execution_count": 7,
   "id": "9fa188b3",
   "metadata": {
    "ExecuteTime": {
     "end_time": "2022-12-12T13:12:12.624159Z",
     "start_time": "2022-12-12T13:12:12.606385Z"
    }
   },
   "outputs": [
    {
     "name": "stdout",
     "output_type": "stream",
     "text": [
      "10\n",
      "20\n",
      "30\n",
      "40\n",
      "50\n",
      "sum 150\n"
     ]
    }
   ],
   "source": [
    "#program to display and find the sum of a list of numbers\n",
    "list = [10,20,30,40,50]\n",
    "sum = 0\n",
    "for i in list:\n",
    "    print(i)\n",
    "    sum+=i\n",
    "print('sum',sum)"
   ]
  },
  {
   "cell_type": "markdown",
   "id": "c2773b7e",
   "metadata": {},
   "source": [
    "# Infinite Loops\n",
    "In the previous while loop, what happens if we forget to write the last statement , i.e.'i+1'? The initial 'i' value 1 is displayed first, but it is never incremented to reach 10. Hence, this loop will always display 1 and never terminates. such a loop is called 'infinite loop'. An infinite loop is a loop that excutes forever. So, the folloeing is an example for an infinite loop:\n",
    "\n",
    "Example:\n",
    "\n",
    "i= 1\n",
    "while i<=10:\n",
    "    \n",
    "    print(i)"
   ]
  },
  {
   "cell_type": "markdown",
   "id": "5bca9bdc",
   "metadata": {},
   "source": [
    "# Nested Loops\n",
    "\n",
    "It is possible to write one loop inside another loop. For example, we can write a for loop inside the whilw loop or for loop inside another for loop. Such loops are called 'nested loops'."
   ]
  },
  {
   "cell_type": "code",
   "execution_count": 19,
   "id": "fc6cd7e9",
   "metadata": {
    "ExecuteTime": {
     "end_time": "2022-12-12T14:23:36.148102Z",
     "start_time": "2022-12-12T14:23:36.126094Z"
    }
   },
   "outputs": [
    {
     "name": "stdout",
     "output_type": "stream",
     "text": [
      "*******************************************************"
     ]
    }
   ],
   "source": [
    "\n",
    "for i in range(1,11):\n",
    "    for j in range(1, i+1):\n",
    "        print('*',end='')"
   ]
  },
  {
   "cell_type": "markdown",
   "id": "58931fb0",
   "metadata": {},
   "source": [
    "# The break statement\n",
    "\n",
    "The break statement can be used inside a  for loop or while loop to come out of loop when 'break' is executed, the python interpreter jumps out of the loop to process the next statement in program.  "
   ]
  },
  {
   "cell_type": "code",
   "execution_count": 22,
   "id": "5f96c5bc",
   "metadata": {
    "ExecuteTime": {
     "end_time": "2022-12-12T14:28:54.088524Z",
     "start_time": "2022-12-12T14:28:54.071558Z"
    }
   },
   "outputs": [
    {
     "name": "stdout",
     "output_type": "stream",
     "text": [
      "x= 10\n",
      "x= 9\n",
      "x= 8\n",
      "x= 7\n",
      "x= 6\n",
      "out of loop\n"
     ]
    }
   ],
   "source": [
    "#python program to display numbers from 10 to 6\n",
    "x=10\n",
    "while x>=1:\n",
    "    print('x=', x)\n",
    "    x-=1\n",
    "    if x==5:\n",
    "        break\n",
    "print('out of loop')"
   ]
  },
  {
   "cell_type": "markdown",
   "id": "f0ce775e",
   "metadata": {},
   "source": [
    "# The continue statement\n",
    "\n",
    "The continue statement is used in a loop to go back to the beginning of the loop. It means, when continue is excuted, the next repeation will start."
   ]
  },
  {
   "cell_type": "code",
   "execution_count": 23,
   "id": "fb3ed4c1",
   "metadata": {
    "ExecuteTime": {
     "end_time": "2022-12-12T14:32:33.487224Z",
     "start_time": "2022-12-12T14:32:33.471268Z"
    }
   },
   "outputs": [
    {
     "name": "stdout",
     "output_type": "stream",
     "text": [
      "x= 1\n",
      "x= 2\n",
      "x= 3\n",
      "x= 4\n",
      "x= 5\n",
      "out of loop\n"
     ]
    }
   ],
   "source": [
    "# program to sidplay 1 to 5 using continue statement\n",
    "x=0\n",
    "while x<10:\n",
    "    x+=1\n",
    "    if x>5:\n",
    "        continue\n",
    "    print('x=',x)\n",
    "print(\"out of loop\")"
   ]
  },
  {
   "cell_type": "markdown",
   "id": "91f50326",
   "metadata": {},
   "source": [
    "# The pass statement\n",
    "\n",
    "The pass statement does not do anything.It is used with 'if' statement or inside the loop to represent no opertaion. we use pass statement when we need a statement."
   ]
  },
  {
   "cell_type": "code",
   "execution_count": 24,
   "id": "6d1c5d10",
   "metadata": {
    "ExecuteTime": {
     "end_time": "2022-12-12T14:41:25.656721Z",
     "start_time": "2022-12-12T14:41:25.637358Z"
    }
   },
   "outputs": [
    {
     "name": "stdout",
     "output_type": "stream",
     "text": [
      "-2\n",
      "-1\n",
      "-3\n",
      "-4\n"
     ]
    }
   ],
   "source": [
    "# program to retrive only negative numbers from list\n",
    "num = [1,2,3,4,-2,-1,-3,-4,8,9]\n",
    "for i in num:\n",
    "    if i>=0:\n",
    "        pass\n",
    "    else:\n",
    "        print(i)\n",
    "        "
   ]
  },
  {
   "cell_type": "markdown",
   "id": "968ef97c",
   "metadata": {},
   "source": [
    "# The return statement \n",
    "During the software development, we have to solve several tasks. To solve each task, we can write separate piece of code.This code that solves a task is known as 'function'.\n"
   ]
  },
  {
   "cell_type": "code",
   "execution_count": 27,
   "id": "277aeda1",
   "metadata": {
    "ExecuteTime": {
     "end_time": "2022-12-12T15:21:26.318156Z",
     "start_time": "2022-12-12T15:21:26.301759Z"
    }
   },
   "outputs": [
    {
     "name": "stdout",
     "output_type": "stream",
     "text": [
      "sum= 25\n",
      "sum= 4.0\n"
     ]
    }
   ],
   "source": [
    "# function to find sum of two numbers\n",
    "def sum(a,b):\n",
    "    print('sum=', a+b)\n",
    "sum(10,15)\n",
    "sum(1.5,2.5)"
   ]
  },
  {
   "cell_type": "code",
   "execution_count": null,
   "id": "49e09e40",
   "metadata": {},
   "outputs": [],
   "source": []
  }
 ],
 "metadata": {
  "gist": {
   "data": {
    "description": "Chapter 5.ipynb",
    "public": true
   },
   "id": ""
  },
  "kernelspec": {
   "display_name": "Python 3 (ipykernel)",
   "language": "python",
   "name": "python3"
  },
  "language_info": {
   "codemirror_mode": {
    "name": "ipython",
    "version": 3
   },
   "file_extension": ".py",
   "mimetype": "text/x-python",
   "name": "python",
   "nbconvert_exporter": "python",
   "pygments_lexer": "ipython3",
   "version": "3.9.12"
  }
 },
 "nbformat": 4,
 "nbformat_minor": 5
}
