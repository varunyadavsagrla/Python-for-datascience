{
 "cells": [
  {
   "cell_type": "markdown",
   "id": "12f991db",
   "metadata": {},
   "source": [
    "# OPERATORS IN PYTHON\n",
    "An operator is symbol that performs an operation. An operator acts on some variables called operands. We can classify the operators depending upon their nature, as shown below:\n",
    "\n",
    "1.Arithmetic operators\n",
    "\n",
    "2.Assignment operators\n",
    "\n",
    "3.Unary Minus operator\n",
    "\n",
    "4.Relational operators\n",
    "\n",
    "5.Logical operators\n",
    "\n",
    "6.Boolean operators\n",
    "\n",
    "7.Membership operators\n",
    "\n",
    "8.Identity operators"
   ]
  },
  {
   "cell_type": "markdown",
   "id": "916f21f7",
   "metadata": {},
   "source": [
    "# Arithmetic Operators\n",
    " \n",
    " These operators are used to perform basic arithmetic operations like additin,subtraction,division,etc.\n",
    " \n",
    " There are seven arithmetic operations available in Python.Since the opertors act on two operands, they are called binary operators.\n",
    " \n",
    " * \"+\" ---- addition operator. Adds two values.\n",
    " \n",
    " example: a+b\n",
    " \n",
    " * \"-\" ---- Subtraction operator. Subtracts one value from another.\n",
    " \n",
    " example: a-b\n",
    " \n",
    " * \"*\" ---- Multiplication operator. Multiplies values on either side of the operator.\n",
    " \n",
    " example: a*b\n",
    " \n",
    " * \"/\" ---- Division operator. Divides left operand by the right operand.\n",
    " \n",
    " example: a/b\n",
    " \n",
    " * \"%\" ---- Modulus operator. gives remainder of division.\n",
    " \n",
    " example: a%b\n",
    " \n",
    " * \"**\" ---- Exponent operator. calculates exponential power value. a**b gives the value of a to the power of b.\n",
    " \n",
    " example: a**b\n",
    " \n",
    " * \"//\" ---- Integer division. This is also called Floor division. Performs division and give only interger quotient.\n",
    " \n",
    " example: a//b"
   ]
  },
  {
   "cell_type": "markdown",
   "id": "a594200f",
   "metadata": {},
   "source": [
    "# Assignments Operators\n",
    "\n",
    "Thses operators are useful to store the side value into a left side varibale.\n",
    "\n",
    "* = --- Assignment operatior. Stroes right side value into left side variable\n",
    "\n",
    "Example: Z = X+Y\n",
    "\n",
    "* += --- Addition assignment operator. Adds right operand to the left operand ans store the result into left operand\n",
    "\n",
    "Example: Z = Z+X\n",
    "\n",
    "* -= ---- Subtraction assignment operator. Subtracts right operand from left operand and stores the result into left operand.\n",
    "\n",
    "Example: Z = Z-X\n",
    "\n",
    "* *= ----- Multiplication assignment operator. Multiples right operand with left operand and stores the result into left operand.\n",
    "\n",
    "Example: Z = Z*X\n",
    "\n",
    "* /= ---- Division assignemnet operator. Divides left operand with right operand and stores the result into left operand.\n",
    "\n",
    "Example: Z = Z/X\n",
    "\n",
    "* %+ ---- Modulus assignments operator. Divides left operand with right operand and stores the remainder into left operand.\n",
    "\n",
    "Example: Z = z%X\n",
    "\n",
    "* **= ---- Exponentiation assignment operator. performs power value and then stores the result into left operand.\n",
    "\n",
    "Example: Z = Z**Y\n",
    "\n",
    "* // ----- Floor division assignement oprator. performs floor division and then stores the result intlo left operand\n",
    "\n",
    "Example: Z = Z//Y\n",
    "\n"
   ]
  },
  {
   "cell_type": "code",
   "execution_count": 1,
   "id": "6bc93978",
   "metadata": {
    "ExecuteTime": {
     "end_time": "2022-12-09T15:58:01.968842Z",
     "start_time": "2022-12-09T15:58:01.889080Z"
    }
   },
   "outputs": [
    {
     "name": "stdout",
     "output_type": "stream",
     "text": [
      "1 1\n"
     ]
    }
   ],
   "source": [
    "##Examples using Assignement operators\n",
    "a=b=1\n",
    "print(a,b)"
   ]
  },
  {
   "cell_type": "code",
   "execution_count": 2,
   "id": "07875288",
   "metadata": {
    "ExecuteTime": {
     "end_time": "2022-12-09T15:58:29.900884Z",
     "start_time": "2022-12-09T15:58:29.879944Z"
    }
   },
   "outputs": [
    {
     "name": "stdout",
     "output_type": "stream",
     "text": [
      "1 2\n"
     ]
    }
   ],
   "source": [
    "a=1; b=2\n",
    "print(a,b)"
   ]
  },
  {
   "cell_type": "code",
   "execution_count": 3,
   "id": "b5d25acb",
   "metadata": {
    "ExecuteTime": {
     "end_time": "2022-12-09T15:58:48.141105Z",
     "start_time": "2022-12-09T15:58:48.126611Z"
    }
   },
   "outputs": [
    {
     "name": "stdout",
     "output_type": "stream",
     "text": [
      "1 2\n"
     ]
    }
   ],
   "source": [
    "a, b = 1,2\n",
    "print(a,b)"
   ]
  },
  {
   "cell_type": "code",
   "execution_count": 4,
   "id": "ccde44c9",
   "metadata": {
    "ExecuteTime": {
     "end_time": "2022-12-09T16:00:14.672024Z",
     "start_time": "2022-12-09T16:00:14.657639Z"
    }
   },
   "outputs": [
    {
     "name": "stdout",
     "output_type": "stream",
     "text": [
      "20\n"
     ]
    }
   ],
   "source": [
    "X=10\n",
    "X =X+10\n",
    "print(X)"
   ]
  },
  {
   "cell_type": "code",
   "execution_count": 7,
   "id": "7c0ed8a6",
   "metadata": {
    "ExecuteTime": {
     "end_time": "2022-12-09T16:01:05.305225Z",
     "start_time": "2022-12-09T16:01:05.292642Z"
    }
   },
   "outputs": [
    {
     "name": "stdout",
     "output_type": "stream",
     "text": [
      "11\n"
     ]
    }
   ],
   "source": [
    "X =10\n",
    "X += 1\n",
    "print(X)"
   ]
  },
  {
   "cell_type": "code",
   "execution_count": 8,
   "id": "e6c15eb0",
   "metadata": {
    "ExecuteTime": {
     "end_time": "2022-12-09T16:01:32.083585Z",
     "start_time": "2022-12-09T16:01:32.074637Z"
    }
   },
   "outputs": [
    {
     "name": "stdout",
     "output_type": "stream",
     "text": [
      "10\n"
     ]
    }
   ],
   "source": [
    "X -= 1\n",
    "print(X)"
   ]
  },
  {
   "cell_type": "markdown",
   "id": "994f788f",
   "metadata": {},
   "source": [
    "# Unary Minus Operator\n",
    "\n",
    "The Unary minus operator is denoted by the symbol Minus(-). when this operator is used before a variable, its value is negated."
   ]
  },
  {
   "cell_type": "code",
   "execution_count": 9,
   "id": "62f5a441",
   "metadata": {
    "ExecuteTime": {
     "end_time": "2022-12-09T16:03:53.576010Z",
     "start_time": "2022-12-09T16:03:53.557295Z"
    }
   },
   "outputs": [
    {
     "name": "stdout",
     "output_type": "stream",
     "text": [
      "-10\n"
     ]
    }
   ],
   "source": [
    "#example using unary minus opeartor\n",
    "n = 10\n",
    "print(-n)"
   ]
  },
  {
   "cell_type": "code",
   "execution_count": 10,
   "id": "9d633fd1",
   "metadata": {
    "ExecuteTime": {
     "end_time": "2022-12-09T16:04:19.806758Z",
     "start_time": "2022-12-09T16:04:19.793705Z"
    }
   },
   "outputs": [
    {
     "name": "stdout",
     "output_type": "stream",
     "text": [
      "10\n"
     ]
    }
   ],
   "source": [
    "num = -10\n",
    "num = - num\n",
    "print(num)"
   ]
  },
  {
   "cell_type": "markdown",
   "id": "f9de0008",
   "metadata": {},
   "source": [
    "# Logical Operators\n",
    "Logical operators are useful to construct compound conditions. A compound condition is a combination for more than one simple condition. \n",
    "\n",
    "* and --- And operator. If x is false it returns x, otherwise it returns y.\n",
    "\n",
    "* or ---- or operator. If x is False , it returns y, otherwise it return x.\n",
    "\n",
    "* notx ---- not operator. if x is false, it returns True, otherwise true."
   ]
  },
  {
   "cell_type": "code",
   "execution_count": 11,
   "id": "d5df95b2",
   "metadata": {
    "ExecuteTime": {
     "end_time": "2022-12-09T16:40:05.936432Z",
     "start_time": "2022-12-09T16:40:05.919896Z"
    }
   },
   "outputs": [
    {
     "name": "stdout",
     "output_type": "stream",
     "text": [
      "200\n",
      "100\n",
      "False\n"
     ]
    }
   ],
   "source": [
    "#example on logical operators\n",
    "x = 100\n",
    "y = 200\n",
    "print(x and y)\n",
    "print(x or y)\n",
    "print(not x)"
   ]
  },
  {
   "cell_type": "code",
   "execution_count": 12,
   "id": "a96c343c",
   "metadata": {
    "ExecuteTime": {
     "end_time": "2022-12-09T16:41:28.606071Z",
     "start_time": "2022-12-09T16:41:28.588623Z"
    }
   },
   "outputs": [
    {
     "name": "stdout",
     "output_type": "stream",
     "text": [
      "yes\n"
     ]
    }
   ],
   "source": [
    "x=1; y=2; z=3\n",
    "if(x<y and y<z): print('yes')\n",
    "else: print('no')"
   ]
  },
  {
   "cell_type": "code",
   "execution_count": 13,
   "id": "ea5355c6",
   "metadata": {
    "ExecuteTime": {
     "end_time": "2022-12-09T16:42:25.956892Z",
     "start_time": "2022-12-09T16:42:25.939482Z"
    }
   },
   "outputs": [
    {
     "name": "stdout",
     "output_type": "stream",
     "text": [
      "yes\n"
     ]
    }
   ],
   "source": [
    "if(x>y or y<z): print('yes')\n",
    "else: print('no')\n",
    "    \n",
    "    "
   ]
  },
  {
   "cell_type": "markdown",
   "id": "f39f4644",
   "metadata": {},
   "source": [
    "# Boolean Operators\n",
    " we know that there are two 'bool' type literals. They are True and False.\n",
    " \n",
    " * and ---- Boolean and operator. If both x and y are true , then it returns true, otherwise false.\n",
    " \n",
    " * or ---- Boolean or operator. If either x or y is True, then it returns True, else false.\n",
    " \n",
    " * not ---- Boolean not operator. If X is True, it returns False, else true.\n",
    " "
   ]
  },
  {
   "cell_type": "code",
   "execution_count": 15,
   "id": "f7e0b8ad",
   "metadata": {
    "ExecuteTime": {
     "end_time": "2022-12-09T16:46:54.928678Z",
     "start_time": "2022-12-09T16:46:54.895462Z"
    }
   },
   "outputs": [
    {
     "data": {
      "text/plain": [
       "True"
      ]
     },
     "execution_count": 15,
     "metadata": {},
     "output_type": "execute_result"
    }
   ],
   "source": [
    "a = True\n",
    "b = False\n",
    "a and a"
   ]
  },
  {
   "cell_type": "code",
   "execution_count": 16,
   "id": "424efc37",
   "metadata": {
    "ExecuteTime": {
     "end_time": "2022-12-09T16:47:31.928702Z",
     "start_time": "2022-12-09T16:47:31.914512Z"
    }
   },
   "outputs": [
    {
     "data": {
      "text/plain": [
       "False"
      ]
     },
     "execution_count": 16,
     "metadata": {},
     "output_type": "execute_result"
    }
   ],
   "source": [
    "a and b"
   ]
  },
  {
   "cell_type": "code",
   "execution_count": 17,
   "id": "474d0092",
   "metadata": {
    "ExecuteTime": {
     "end_time": "2022-12-09T16:47:44.369002Z",
     "start_time": "2022-12-09T16:47:44.353187Z"
    }
   },
   "outputs": [
    {
     "data": {
      "text/plain": [
       "True"
      ]
     },
     "execution_count": 17,
     "metadata": {},
     "output_type": "execute_result"
    }
   ],
   "source": [
    "a or a"
   ]
  },
  {
   "cell_type": "code",
   "execution_count": 18,
   "id": "dfc340dc",
   "metadata": {
    "ExecuteTime": {
     "end_time": "2022-12-09T16:47:55.789281Z",
     "start_time": "2022-12-09T16:47:55.767373Z"
    }
   },
   "outputs": [
    {
     "data": {
      "text/plain": [
       "True"
      ]
     },
     "execution_count": 18,
     "metadata": {},
     "output_type": "execute_result"
    }
   ],
   "source": [
    "a or b"
   ]
  },
  {
   "cell_type": "code",
   "execution_count": 20,
   "id": "5f5b3610",
   "metadata": {
    "ExecuteTime": {
     "end_time": "2022-12-09T16:48:18.166957Z",
     "start_time": "2022-12-09T16:48:18.155708Z"
    }
   },
   "outputs": [
    {
     "data": {
      "text/plain": [
       "False"
      ]
     },
     "execution_count": 20,
     "metadata": {},
     "output_type": "execute_result"
    }
   ],
   "source": [
    "not a"
   ]
  },
  {
   "cell_type": "code",
   "execution_count": 21,
   "id": "074c3e1a",
   "metadata": {
    "ExecuteTime": {
     "end_time": "2022-12-09T16:48:25.933651Z",
     "start_time": "2022-12-09T16:48:25.915227Z"
    }
   },
   "outputs": [
    {
     "data": {
      "text/plain": [
       "True"
      ]
     },
     "execution_count": 21,
     "metadata": {},
     "output_type": "execute_result"
    }
   ],
   "source": [
    "not b"
   ]
  },
  {
   "cell_type": "markdown",
   "id": "6e1e43db",
   "metadata": {},
   "source": [
    "# Membership operators\n",
    "\n",
    "The membership operator are useful to test for membership in a sequence such as string, lists, tuples or dictionaries. There are two types\n",
    "\n",
    "1. in\n",
    "\n",
    "2. not in\n"
   ]
  },
  {
   "cell_type": "code",
   "execution_count": 22,
   "id": "74ead941",
   "metadata": {
    "ExecuteTime": {
     "end_time": "2022-12-09T16:51:01.872014Z",
     "start_time": "2022-12-09T16:51:01.853490Z"
    }
   },
   "outputs": [
    {
     "data": {
      "text/plain": [
       "True"
      ]
     },
     "execution_count": 22,
     "metadata": {},
     "output_type": "execute_result"
    }
   ],
   "source": [
    "# Example for in operator\n",
    "lst = [19,20,23,50,60]\n",
    "x= 20\n",
    "x in lst"
   ]
  },
  {
   "cell_type": "code",
   "execution_count": 23,
   "id": "1512e096",
   "metadata": {
    "ExecuteTime": {
     "end_time": "2022-12-09T16:51:18.004857Z",
     "start_time": "2022-12-09T16:51:17.993335Z"
    }
   },
   "outputs": [
    {
     "data": {
      "text/plain": [
       "False"
      ]
     },
     "execution_count": 23,
     "metadata": {},
     "output_type": "execute_result"
    }
   ],
   "source": [
    "x not in lst"
   ]
  },
  {
   "cell_type": "code",
   "execution_count": 24,
   "id": "bf951422",
   "metadata": {
    "ExecuteTime": {
     "end_time": "2022-12-09T16:52:35.981673Z",
     "start_time": "2022-12-09T16:52:35.968028Z"
    }
   },
   "outputs": [
    {
     "name": "stdout",
     "output_type": "stream",
     "text": [
      "not in list\n"
     ]
    }
   ],
   "source": [
    "# Example for not in operator\n",
    "lst = [20,30,39,40,50]\n",
    "x =22\n",
    "if x not in lst:\n",
    "    print('not in list')"
   ]
  },
  {
   "cell_type": "markdown",
   "id": "d44445f8",
   "metadata": {},
   "source": [
    "# Identity Operators\n",
    "\n",
    "These operators compare the memory location of two objects. Hence, it is possible to know whether the two objwcts are same or not. There are two types\n",
    "\n",
    "1. is\n",
    "\n",
    "2. is not"
   ]
  },
  {
   "cell_type": "code",
   "execution_count": 1,
   "id": "29b95e48",
   "metadata": {
    "ExecuteTime": {
     "end_time": "2022-12-10T06:45:11.647088Z",
     "start_time": "2022-12-10T06:45:11.599829Z"
    }
   },
   "outputs": [
    {
     "name": "stdout",
     "output_type": "stream",
     "text": [
      " and b have same identity\n"
     ]
    }
   ],
   "source": [
    "#Examples for identity operators\n",
    "a=25\n",
    "b=25\n",
    "if(a is b):\n",
    "    print(\" and b have same identity\")\n",
    "else:\n",
    "    print(\" a and b do not have same identity \")\n",
    "    \n",
    "    "
   ]
  },
  {
   "cell_type": "code",
   "execution_count": 2,
   "id": "a8d6c94b",
   "metadata": {
    "ExecuteTime": {
     "end_time": "2022-12-10T06:46:49.773212Z",
     "start_time": "2022-12-10T06:46:49.755263Z"
    }
   },
   "outputs": [
    {
     "name": "stdout",
     "output_type": "stream",
     "text": [
      "one and two are not same\n"
     ]
    }
   ],
   "source": [
    "one =[1,2,3,4]\n",
    "two =[1,2,3,4]\n",
    "if(one is two):\n",
    "    print(\"one and two are same\")\n",
    "else:\n",
    "    print(\"one and two are not same\")"
   ]
  },
  {
   "cell_type": "markdown",
   "id": "57f6706a",
   "metadata": {},
   "source": [
    "# Operator precendence and Associativity\n",
    "\n",
    "* () ---- Parenthesis\n",
    "\n",
    "* ** ---- Exponentiation\n",
    "\n",
    "* -,~ ---- Unary minus, Bitwise complement\n",
    "\n",
    "* *,/,//,% ---- Multiplication, Division, Floor division, Modulus\n",
    "\n",
    "* +,- ----- Addition, subtraction\n",
    "\n",
    "* <<, >> ---- Bitwise left shift, Bitwise right shift\n",
    "\n",
    "* &,^ ---- Bitwise AND , XOR\n",
    "\n",
    "* >,>=,<,<=,==,!= ---- Relatinal operators\n",
    "\n",
    "* =, %=, /=, //=, -=, +=, *=, **= ---- Assignment operators\n",
    "\n",
    "* is, is not ----- Identity operators\n",
    "\n",
    "* in, not in ----- membership operators\n",
    "\n",
    "* not, or , and ---- Logical not, or ,and"
   ]
  },
  {
   "cell_type": "markdown",
   "id": "f7591a67",
   "metadata": {},
   "source": [
    "# Mathematical Functions\n",
    "\n",
    "While operators are very handy when dealing with fundamental operations in a program, we can use built- in functions given in python to perform various advanced operations.\n",
    "\n",
    "We mentioned 'math' is module. That means it is actually a python program that is written by python.org. So, ehat is module? a module is python program that contains a group of useful objects like functions,classes or variables. A module can imported and used in python programs.\n",
    "\n",
    "**** import math"
   ]
  },
  {
   "cell_type": "code",
   "execution_count": 5,
   "id": "3a94e4f7",
   "metadata": {
    "ExecuteTime": {
     "end_time": "2022-12-10T07:14:21.250585Z",
     "start_time": "2022-12-10T07:14:21.233602Z"
    }
   },
   "outputs": [
    {
     "name": "stdout",
     "output_type": "stream",
     "text": [
      "4.0\n"
     ]
    }
   ],
   "source": [
    "#example\n",
    "import math as m\n",
    "x =m.sqrt(16)\n",
    "print(x)"
   ]
  },
  {
   "cell_type": "code",
   "execution_count": 7,
   "id": "9ab4565f",
   "metadata": {
    "ExecuteTime": {
     "end_time": "2022-12-10T07:15:14.630129Z",
     "start_time": "2022-12-10T07:15:14.610148Z"
    }
   },
   "outputs": [
    {
     "name": "stdout",
     "output_type": "stream",
     "text": [
      "120\n"
     ]
    }
   ],
   "source": [
    "y= m.factorial(5)\n",
    "print(y)"
   ]
  },
  {
   "cell_type": "markdown",
   "id": "4419cf6d",
   "metadata": {},
   "source": [
    "# Important math fuctions\n",
    "\n",
    "* ceil(x) ---- Raises X value to the next higher integer. If x is integer, then same value is returned.\n",
    "\n",
    "Example: ceil(4.5) gives 5\n",
    "\n",
    "* floor(x) ---- Decreases x values to the previous integer value. If x integer, then same value is returned.\n",
    "\n",
    "Example: floor(4.5) gives 4\n",
    "\n",
    "* degrees(x) ---- Converts angle value x from radians into degrees\n",
    "\n",
    "Example: degrees(3.14159) gives 179.9998479605043\n",
    "\n",
    "* radians(x) ---- converts x value from degrees into radians.\n",
    "\n",
    "Example: radians(180) gives 3.141592653589793\n",
    "\n",
    "* sin(x) ---- Given sine value of x.Here x value given in radians.\n",
    "\n",
    "Example: sin(0.5) gives 0.8775825628903728\n",
    "\n",
    "* cos(x) ---- Gives cosine value of x. Here x value is given in radians.\n",
    "\n",
    "Example: cos(0.5) gives 0.87758525618903728\n",
    "\n",
    "* tan(x) ---- Gives tangent value of x, given x value in radians.\n",
    "\n",
    "Example: tan(0.5) gives 0.5463024898437905\n",
    "\n",
    "* exp(x) ---- Returns exponentiation of x. This is same as e**x\n",
    "\n",
    "Example: exp(0.5) returns 1.6487212707001282\n",
    "\n",
    "* fabs(x) ---- Gives the absolute value of x\n",
    "\n",
    "Example: fabs(-4.56) gives 4.56\n",
    "\n",
    "* factorial(x) ---- Returns factorial value of x. Raises \"valueerror' if x is not integer or is negative\n",
    "\n",
    "Example: factorial(4) gives 24\n",
    "\n",
    "* fmod(x,y) ---- Returns remainder of division of x and y. fmod() is preffered to calculate modulus for float values than %                      operator. '%\" works well for integer values.\n",
    "\n",
    "Example: fmod(14.5,3) gives 2.5\n",
    "\n",
    "* fsum(values) ---- Returns accurate sum of floationg points values\n",
    "\n",
    "Example: fsum(1.5,2.4,-3.3) returns 0.600000000001\n",
    "\n",
    "* modf(x) ---- Returns float and integer parts of x.\n",
    "\n",
    "Example: modf(2.56) gives(0.56,2.0)\n",
    "\n",
    "* log10(x)  ---- Returns base -10 logarithm of x.\n",
    "\n",
    "Example: log10(5.2345) gives 0.7188752041406328\n",
    "\n",
    "* log(x,[,base] --- Returns the natural logarithm of x of specified base.\n",
    "\n",
    "Example: log(5.5,2) gives 2.4594316186372973\n",
    "\n",
    "* sqrt(x) ---- returns positive square root of x.\n",
    "\n",
    "Example: sqrt(49) gives 7.0\n",
    "\n",
    "* pow(x,y) ---- raises x value to the power of y.\n",
    "\n",
    "Example: pow(5,3) returns 125.0\n",
    "\n",
    "* gcd(x,y) ---- Gives greatest common divisor of x and y\n",
    "\n",
    "Example: gcd(25,30) gives 5\n",
    "\n",
    "* trunc(x) ---- The real value of x is truncated to integer value and returned.\n",
    "\n",
    "Example: trunc(15.5676) gives 15\n",
    "\n",
    "* isinf(x) ---- Returns True if x is a positive or negative infinity, and false otherwise.\n",
    "\n",
    "Example: num = float('INF')\n",
    "\n",
    "isinf(num) gives True\n",
    "\n",
    "* isnan(x) ---- Returns true if x is a NAN(not a number) and False otherwise.\n",
    "\n",
    "Example: num =float('NAN')\n",
    "\n",
    "isnan(num) gives True"
   ]
  }
 ],
 "metadata": {
  "kernelspec": {
   "display_name": "Python 3 (ipykernel)",
   "language": "python",
   "name": "python3"
  },
  "language_info": {
   "codemirror_mode": {
    "name": "ipython",
    "version": 3
   },
   "file_extension": ".py",
   "mimetype": "text/x-python",
   "name": "python",
   "nbconvert_exporter": "python",
   "pygments_lexer": "ipython3",
   "version": "3.9.12"
  }
 },
 "nbformat": 4,
 "nbformat_minor": 5
}
