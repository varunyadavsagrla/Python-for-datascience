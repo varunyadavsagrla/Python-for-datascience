{
 "cells": [
  {
   "cell_type": "markdown",
   "id": "037b56f9",
   "metadata": {},
   "source": [
    "# DATATYPES IN PYTHON"
   ]
  },
  {
   "cell_type": "markdown",
   "id": "0273e882",
   "metadata": {},
   "source": [
    "# Built_in Datatypes\n",
    "The built_in datatypes are 5 types:\n",
    "1. NoneType\n",
    "2. Numeric types\n",
    "3. sequences\n",
    "4. sets\n",
    "5. Mappings\n"
   ]
  },
  {
   "cell_type": "markdown",
   "id": "46775f16",
   "metadata": {},
   "source": [
    "# Built_in Datatypes\n",
    "The built_in datatypes are 5 types:\n",
    "1. NoneType\n",
    "2. Numeric types\n",
    "3. sequences\n",
    "4. sets\n",
    "5. Mappings\n"
   ]
  },
  {
   "cell_type": "markdown",
   "id": "39a83ecf",
   "metadata": {},
   "source": [
    "# Numeric types\n",
    "The numeric types represents numbers. There are three sub types:\n",
    "1. int\n",
    "2. float\n",
    "3. complex\n",
    "\n",
    "\n",
    "int datatype\n",
    "The int datatype represents an integer numver. An integer number is a number without any decimal point or fraction part\n",
    "Example: 200,-5-,0,9888998700\n"
   ]
  },
  {
   "cell_type": "code",
   "execution_count": 2,
   "id": "aacc169e",
   "metadata": {
    "ExecuteTime": {
     "end_time": "2022-12-06T00:17:35.436759Z",
     "start_time": "2022-12-06T00:17:34.976853Z"
    }
   },
   "outputs": [
    {
     "data": {
      "text/plain": [
       "-57"
      ]
     },
     "execution_count": 2,
     "metadata": {},
     "output_type": "execute_result"
    }
   ],
   "source": [
    "a = -57\n",
    "a"
   ]
  },
  {
   "cell_type": "markdown",
   "id": "96474555",
   "metadata": {},
   "source": [
    "# Float Datatype\n",
    "The float datatype reprents floating point numbers. A floating point numbers is a numbers that contains a decimal point. \n",
    "Ex: 0.5,-3.4657,290.08,0.001"
   ]
  },
  {
   "cell_type": "code",
   "execution_count": 3,
   "id": "b99a0ec1",
   "metadata": {
    "ExecuteTime": {
     "end_time": "2022-12-06T00:21:10.745777Z",
     "start_time": "2022-12-06T00:21:10.735947Z"
    }
   },
   "outputs": [
    {
     "data": {
      "text/plain": [
       "55.6789"
      ]
     },
     "execution_count": 3,
     "metadata": {},
     "output_type": "execute_result"
    }
   ],
   "source": [
    "num = 55.6789\n",
    "num"
   ]
  },
  {
   "cell_type": "markdown",
   "id": "79eae81e",
   "metadata": {},
   "source": [
    "# Complex Datatype\n",
    "A complex number is snumber that is written in the form of a+bj or a+bJ."
   ]
  },
  {
   "cell_type": "code",
   "execution_count": 4,
   "id": "dad8cdd0",
   "metadata": {
    "ExecuteTime": {
     "end_time": "2022-12-06T00:25:53.617691Z",
     "start_time": "2022-12-06T00:25:53.602655Z"
    }
   },
   "outputs": [
    {
     "data": {
      "text/plain": [
       "(-1-5.5j)"
      ]
     },
     "execution_count": 4,
     "metadata": {},
     "output_type": "execute_result"
    }
   ],
   "source": [
    "c1 = -1-5.5j\n",
    "c1"
   ]
  },
  {
   "cell_type": "code",
   "execution_count": 5,
   "id": "53606da1",
   "metadata": {
    "ExecuteTime": {
     "end_time": "2022-12-06T00:32:40.765882Z",
     "start_time": "2022-12-06T00:32:40.748740Z"
    }
   },
   "outputs": [
    {
     "name": "stdout",
     "output_type": "stream",
     "text": [
      "sum=  (5.5+2j)\n"
     ]
    }
   ],
   "source": [
    "#program 1 A program to display the sum of a two complex numbers\n",
    "c1 = 2.5 + 2.5j\n",
    "c2 = 3.0 - 0.5j\n",
    "c3 = c1 + c2\n",
    "print(\"sum= \", c3)\n",
    "\n"
   ]
  },
  {
   "cell_type": "code",
   "execution_count": 6,
   "id": "0b968a78",
   "metadata": {
    "ExecuteTime": {
     "end_time": "2022-12-06T00:33:33.367679Z",
     "start_time": "2022-12-06T00:33:33.352734Z"
    }
   },
   "outputs": [
    {
     "data": {
      "text/plain": [
       "15"
      ]
     },
     "execution_count": 6,
     "metadata": {},
     "output_type": "execute_result"
    }
   ],
   "source": [
    "x = 15.56\n",
    "int(x)"
   ]
  },
  {
   "cell_type": "code",
   "execution_count": 7,
   "id": "5d65fbaf",
   "metadata": {
    "ExecuteTime": {
     "end_time": "2022-12-06T00:33:52.567219Z",
     "start_time": "2022-12-06T00:33:52.545320Z"
    }
   },
   "outputs": [
    {
     "data": {
      "text/plain": [
       "15.0"
      ]
     },
     "execution_count": 7,
     "metadata": {},
     "output_type": "execute_result"
    }
   ],
   "source": [
    "num = 15\n",
    "float(num)"
   ]
  },
  {
   "cell_type": "code",
   "execution_count": 8,
   "id": "e3e1f286",
   "metadata": {
    "ExecuteTime": {
     "end_time": "2022-12-06T00:34:15.290605Z",
     "start_time": "2022-12-06T00:34:15.278005Z"
    }
   },
   "outputs": [
    {
     "data": {
      "text/plain": [
       "(10+0j)"
      ]
     },
     "execution_count": 8,
     "metadata": {},
     "output_type": "execute_result"
    }
   ],
   "source": [
    "n = 10\n",
    "complex(n)"
   ]
  },
  {
   "cell_type": "code",
   "execution_count": 10,
   "id": "e8bdf520",
   "metadata": {
    "ExecuteTime": {
     "end_time": "2022-12-06T00:35:13.677093Z",
     "start_time": "2022-12-06T00:35:13.659330Z"
    }
   },
   "outputs": [
    {
     "data": {
      "text/plain": [
       "(10-5j)"
      ]
     },
     "execution_count": 10,
     "metadata": {},
     "output_type": "execute_result"
    }
   ],
   "source": [
    "a =10\n",
    "b = -5\n",
    "complex(a, b)"
   ]
  },
  {
   "cell_type": "code",
   "execution_count": 11,
   "id": "53a7a741",
   "metadata": {
    "ExecuteTime": {
     "end_time": "2022-12-06T00:42:12.338845Z",
     "start_time": "2022-12-06T00:42:12.316821Z"
    }
   },
   "outputs": [
    {
     "name": "stdout",
     "output_type": "stream",
     "text": [
      "Octal 17 = 15\n",
      "Binary 1111010 122\n",
      "hexadecimal 1c2 450\n"
     ]
    }
   ],
   "source": [
    "#program 2: A program to convert into decimal number system\n",
    "n1 = 0o17\n",
    "n2 = 0B1111010\n",
    "n3 = 0x1c2\n",
    "n =int(n1)\n",
    "print('Octal 17 =', n)\n",
    "n = int(n2)\n",
    "print('Binary 1111010', n)\n",
    "n =int(n3)\n",
    "print('hexadecimal 1c2', n)"
   ]
  },
  {
   "cell_type": "markdown",
   "id": "9b9ca1ac",
   "metadata": {},
   "source": [
    "# Bool Datatype\n",
    "the bool datatype in python represents boolean values. There are only two booleans values True or False"
   ]
  },
  {
   "cell_type": "code",
   "execution_count": 1,
   "id": "c0291b31",
   "metadata": {
    "ExecuteTime": {
     "end_time": "2022-12-06T07:04:43.170796Z",
     "start_time": "2022-12-06T07:04:43.058752Z"
    }
   },
   "outputs": [
    {
     "name": "stdout",
     "output_type": "stream",
     "text": [
      "hello\n"
     ]
    }
   ],
   "source": [
    "a = 10 \n",
    "b = 20\n",
    "if(a<b):print(\"hello\")"
   ]
  },
  {
   "cell_type": "code",
   "execution_count": 2,
   "id": "a8dd1267",
   "metadata": {
    "ExecuteTime": {
     "end_time": "2022-12-06T07:05:28.505957Z",
     "start_time": "2022-12-06T07:05:28.493483Z"
    }
   },
   "outputs": [
    {
     "name": "stdout",
     "output_type": "stream",
     "text": [
      "True\n"
     ]
    }
   ],
   "source": [
    "a = 10 > 5\n",
    "print(a)\n"
   ]
  },
  {
   "cell_type": "code",
   "execution_count": 3,
   "id": "25dfe13a",
   "metadata": {
    "ExecuteTime": {
     "end_time": "2022-12-06T07:05:55.914545Z",
     "start_time": "2022-12-06T07:05:55.907342Z"
    }
   },
   "outputs": [
    {
     "name": "stdout",
     "output_type": "stream",
     "text": [
      "False\n"
     ]
    }
   ],
   "source": [
    "a = 5 > 10\n",
    "print(a)"
   ]
  },
  {
   "cell_type": "markdown",
   "id": "d7b58671",
   "metadata": {},
   "source": [
    "# Sequences in python\n",
    "Generally, a sequence represents a group of elements or items. for example, a group of interger numbers will a sequence. There are 6 types of sequences in python\n",
    "1. str              4. list\n",
    "2. bytes            5. tuple\n",
    "3. byte array       6. range\n",
    "\n",
    "\n",
    "\n",
    "str datatype:\n",
    "str represent the string datatype. A string represented by a group of characters. String are closed in single or double quotes. Both are valid"
   ]
  },
  {
   "cell_type": "code",
   "execution_count": 4,
   "id": "7b165523",
   "metadata": {
    "ExecuteTime": {
     "end_time": "2022-12-06T07:11:55.161071Z",
     "start_time": "2022-12-06T07:11:55.149160Z"
    }
   },
   "outputs": [],
   "source": [
    "#Example of str\n",
    "str = \"welcome \"\n",
    "str = 'welcome'\n"
   ]
  },
  {
   "cell_type": "code",
   "execution_count": 5,
   "id": "1957e290",
   "metadata": {
    "ExecuteTime": {
     "end_time": "2022-12-06T07:15:20.954458Z",
     "start_time": "2022-12-06T07:15:20.932861Z"
    }
   },
   "outputs": [],
   "source": [
    "# we can also write strings inside \"\"\"(triple double quotes) or '''(triple single quotes)\n",
    "str1 = \"\"\"This is a book on python which discusses all topics of core python in a very lucid manner\"\"\"\n",
    "str2 = '''This is a book on python which discusses all topics of core python in a very lucid manner'''\n"
   ]
  },
  {
   "cell_type": "markdown",
   "id": "0a030342",
   "metadata": {},
   "source": [
    "# There are three operations that we can generally perform on any sequence:\n",
    "1. Indexing: It means retrieving any element by its position number.\n",
    "2. Slicing : It means retrieving a range of elements.\n",
    "3. Repetition: It means repeating a sequence. It symbol is '*'"
   ]
  },
  {
   "cell_type": "code",
   "execution_count": 6,
   "id": "2da2830d",
   "metadata": {
    "ExecuteTime": {
     "end_time": "2022-12-06T07:22:36.593327Z",
     "start_time": "2022-12-06T07:22:36.568119Z"
    }
   },
   "outputs": [
    {
     "data": {
      "text/plain": [
       "'p'"
      ]
     },
     "execution_count": 6,
     "metadata": {},
     "output_type": "execute_result"
    }
   ],
   "source": [
    "#example for indexing operations on strings:\n",
    "str = 'core python'\n",
    "str[0]      # while indexing using square brackets[]\n",
    "str[5]"
   ]
  },
  {
   "cell_type": "code",
   "execution_count": 7,
   "id": "6dd976de",
   "metadata": {
    "ExecuteTime": {
     "end_time": "2022-12-06T07:24:44.472456Z",
     "start_time": "2022-12-06T07:24:44.456853Z"
    }
   },
   "outputs": [
    {
     "data": {
      "text/plain": [
       "'varu'"
      ]
     },
     "execution_count": 7,
     "metadata": {},
     "output_type": "execute_result"
    }
   ],
   "source": [
    "# The slicing operation represnts square brackets [and] to retrive pieces of string.\n",
    "Name = 'varun yadav'\n",
    "Name[0:4]"
   ]
  },
  {
   "cell_type": "code",
   "execution_count": 8,
   "id": "6f6e89e4",
   "metadata": {
    "ExecuteTime": {
     "end_time": "2022-12-06T07:25:03.637074Z",
     "start_time": "2022-12-06T07:25:03.624369Z"
    }
   },
   "outputs": [
    {
     "data": {
      "text/plain": [
       "'varu'"
      ]
     },
     "execution_count": 8,
     "metadata": {},
     "output_type": "execute_result"
    }
   ],
   "source": [
    "Name[:4]"
   ]
  },
  {
   "cell_type": "code",
   "execution_count": 9,
   "id": "c6014170",
   "metadata": {
    "ExecuteTime": {
     "end_time": "2022-12-06T07:25:23.031817Z",
     "start_time": "2022-12-06T07:25:23.016256Z"
    }
   },
   "outputs": [
    {
     "data": {
      "text/plain": [
       "' yadav'"
      ]
     },
     "execution_count": 9,
     "metadata": {},
     "output_type": "execute_result"
    }
   ],
   "source": [
    "Name[5:11]"
   ]
  },
  {
   "cell_type": "code",
   "execution_count": 10,
   "id": "a3910a94",
   "metadata": {
    "ExecuteTime": {
     "end_time": "2022-12-06T07:25:37.030605Z",
     "start_time": "2022-12-06T07:25:37.014463Z"
    }
   },
   "outputs": [
    {
     "data": {
      "text/plain": [
       "' yadav'"
      ]
     },
     "execution_count": 10,
     "metadata": {},
     "output_type": "execute_result"
    }
   ],
   "source": [
    "Name[5:]"
   ]
  },
  {
   "cell_type": "code",
   "execution_count": 11,
   "id": "6b6f310e",
   "metadata": {
    "ExecuteTime": {
     "end_time": "2022-12-06T07:25:57.127649Z",
     "start_time": "2022-12-06T07:25:57.110153Z"
    }
   },
   "outputs": [
    {
     "data": {
      "text/plain": [
       "'varun yadav'"
      ]
     },
     "execution_count": 11,
     "metadata": {},
     "output_type": "execute_result"
    }
   ],
   "source": [
    "Name[0:11]\n"
   ]
  },
  {
   "cell_type": "code",
   "execution_count": 12,
   "id": "e0104bf3",
   "metadata": {
    "ExecuteTime": {
     "end_time": "2022-12-06T07:26:21.063306Z",
     "start_time": "2022-12-06T07:26:21.048828Z"
    }
   },
   "outputs": [
    {
     "data": {
      "text/plain": [
       "'varun yadav'"
      ]
     },
     "execution_count": 12,
     "metadata": {},
     "output_type": "execute_result"
    }
   ],
   "source": [
    "Name[0:11:1]"
   ]
  },
  {
   "cell_type": "code",
   "execution_count": 13,
   "id": "386704a7",
   "metadata": {
    "ExecuteTime": {
     "end_time": "2022-12-06T07:26:46.138666Z",
     "start_time": "2022-12-06T07:26:46.118014Z"
    }
   },
   "outputs": [
    {
     "data": {
      "text/plain": [
       "'vrnydv'"
      ]
     },
     "execution_count": 13,
     "metadata": {},
     "output_type": "execute_result"
    }
   ],
   "source": [
    "Name[0:11:2]"
   ]
  },
  {
   "cell_type": "code",
   "execution_count": 14,
   "id": "3ed5cbd7",
   "metadata": {
    "ExecuteTime": {
     "end_time": "2022-12-06T07:27:43.827826Z",
     "start_time": "2022-12-06T07:27:43.794030Z"
    }
   },
   "outputs": [
    {
     "data": {
      "text/plain": [
       "'vaday '"
      ]
     },
     "execution_count": 14,
     "metadata": {},
     "output_type": "execute_result"
    }
   ],
   "source": [
    "Name[10:4:-1]"
   ]
  },
  {
   "cell_type": "code",
   "execution_count": 15,
   "id": "7d82b82f",
   "metadata": {
    "ExecuteTime": {
     "end_time": "2022-12-06T07:32:42.542622Z",
     "start_time": "2022-12-06T07:32:42.526619Z"
    }
   },
   "outputs": [
    {
     "data": {
      "text/plain": [
       "'varun yadavvarun yadavvarun yadavvarun yadavvarun yadavvarun yadavvarun yadavvarun yadav'"
      ]
     },
     "execution_count": 15,
     "metadata": {},
     "output_type": "execute_result"
    }
   ],
   "source": [
    "# The repetition operator is denoted by '*' symbol and useful to repeat the string for several times.\n",
    "Name*8"
   ]
  },
  {
   "cell_type": "markdown",
   "id": "ffdfe2ba",
   "metadata": {},
   "source": [
    "# Operations on Strings\n",
    "we can use several built_in functions on string to perform different operations.\n",
    "\n",
    "\n",
    "\n",
    "len(): Finds length of string.\n",
    "\n",
    "\n",
    "upper():Converts a string into capital letters.\n",
    "\n",
    "\n",
    "lower(): Convers a string into lower letters.\n",
    "\n",
    "\n",
    "title(): converts first letter of each word into capital\n",
    "\n",
    "\n",
    "count(): Counts how many times a sub string is repeated in the main string.\n",
    "\n",
    "\n",
    "index() or find(): Gives the first occurrence of substring in the main string.counting starts from 0 onwards.\n",
    "\n",
    "\n",
    "replace(): Replace a sub string with a new substring.\n",
    "\n",
    "\n",
    "split() : Splits a string. By default splits at spaces and retuen a list with pieces.\n",
    "\n",
    "\n",
    "\n",
    "join() : Joins strings with characters in between."
   ]
  },
  {
   "cell_type": "code",
   "execution_count": 16,
   "id": "9ac337f0",
   "metadata": {
    "ExecuteTime": {
     "end_time": "2022-12-06T07:45:13.565669Z",
     "start_time": "2022-12-06T07:45:13.548285Z"
    }
   },
   "outputs": [
    {
     "data": {
      "text/plain": [
       "11"
      ]
     },
     "execution_count": 16,
     "metadata": {},
     "output_type": "execute_result"
    }
   ],
   "source": [
    "# Examples for operations on string\n",
    "len(Name)"
   ]
  },
  {
   "cell_type": "code",
   "execution_count": 17,
   "id": "09447ba7",
   "metadata": {
    "ExecuteTime": {
     "end_time": "2022-12-06T07:45:33.528792Z",
     "start_time": "2022-12-06T07:45:33.519526Z"
    }
   },
   "outputs": [
    {
     "data": {
      "text/plain": [
       "'VARUN YADAV'"
      ]
     },
     "execution_count": 17,
     "metadata": {},
     "output_type": "execute_result"
    }
   ],
   "source": [
    "Name.upper()"
   ]
  },
  {
   "cell_type": "code",
   "execution_count": 18,
   "id": "7dedba02",
   "metadata": {
    "ExecuteTime": {
     "end_time": "2022-12-06T07:45:54.888550Z",
     "start_time": "2022-12-06T07:45:54.878953Z"
    }
   },
   "outputs": [
    {
     "data": {
      "text/plain": [
       "'varun yadav'"
      ]
     },
     "execution_count": 18,
     "metadata": {},
     "output_type": "execute_result"
    }
   ],
   "source": [
    "Name.lower()"
   ]
  },
  {
   "cell_type": "code",
   "execution_count": 19,
   "id": "58737640",
   "metadata": {
    "ExecuteTime": {
     "end_time": "2022-12-06T07:46:14.207263Z",
     "start_time": "2022-12-06T07:46:14.187010Z"
    }
   },
   "outputs": [
    {
     "data": {
      "text/plain": [
       "'Varun Yadav'"
      ]
     },
     "execution_count": 19,
     "metadata": {},
     "output_type": "execute_result"
    }
   ],
   "source": [
    "Name.title()"
   ]
  },
  {
   "cell_type": "code",
   "execution_count": 21,
   "id": "2c3d8e22",
   "metadata": {
    "ExecuteTime": {
     "end_time": "2022-12-06T07:47:39.878523Z",
     "start_time": "2022-12-06T07:47:39.857654Z"
    }
   },
   "outputs": [
    {
     "data": {
      "text/plain": [
       "8"
      ]
     },
     "execution_count": 21,
     "metadata": {},
     "output_type": "execute_result"
    }
   ],
   "source": [
    "Name.index('d')"
   ]
  },
  {
   "cell_type": "code",
   "execution_count": 22,
   "id": "5deef57e",
   "metadata": {
    "ExecuteTime": {
     "end_time": "2022-12-06T07:49:03.909637Z",
     "start_time": "2022-12-06T07:49:03.899653Z"
    }
   },
   "outputs": [
    {
     "data": {
      "text/plain": [
       "'varun sagarla'"
      ]
     },
     "execution_count": 22,
     "metadata": {},
     "output_type": "execute_result"
    }
   ],
   "source": [
    "Name.replace('yadav','sagarla')\n"
   ]
  },
  {
   "cell_type": "code",
   "execution_count": 23,
   "id": "aee29090",
   "metadata": {
    "ExecuteTime": {
     "end_time": "2022-12-06T07:52:40.142316Z",
     "start_time": "2022-12-06T07:52:40.125505Z"
    }
   },
   "outputs": [
    {
     "data": {
      "text/plain": [
       "['varun', 'yadav']"
      ]
     },
     "execution_count": 23,
     "metadata": {},
     "output_type": "execute_result"
    }
   ],
   "source": [
    "Name.split()\n"
   ]
  },
  {
   "cell_type": "code",
   "execution_count": 24,
   "id": "23659fe5",
   "metadata": {
    "ExecuteTime": {
     "end_time": "2022-12-06T07:53:48.353482Z",
     "start_time": "2022-12-06T07:53:48.332550Z"
    }
   },
   "outputs": [
    {
     "data": {
      "text/plain": [
       "'v---------a---------r---------u---------n--------- ---------y---------a---------d---------a---------v'"
      ]
     },
     "execution_count": 24,
     "metadata": {},
     "output_type": "execute_result"
    }
   ],
   "source": [
    "\"---------\".join(Name)"
   ]
  },
  {
   "cell_type": "markdown",
   "id": "5d74b27d",
   "metadata": {},
   "source": [
    "# Bytes Datatype\n",
    "The bytes datatype represents a group of byte numbers just like arrat does. A byte number is any positive integer fromm 0 to 255(inclusive)\n"
   ]
  },
  {
   "cell_type": "markdown",
   "id": "89077f7f",
   "metadata": {},
   "source": [
    "# LIST Datatype\n",
    "\n",
    "Lists in python are similar to arrays in C or Java. A list represents a group of elements. The main difference between a list and an array is that list can store different types of elements but an array can store only one type of elements.Lists are represented using square brackets[]."
   ]
  },
  {
   "cell_type": "code",
   "execution_count": 1,
   "id": "f7fd0fda",
   "metadata": {
    "ExecuteTime": {
     "end_time": "2022-12-08T06:38:04.419213Z",
     "start_time": "2022-12-08T06:38:04.361057Z"
    }
   },
   "outputs": [],
   "source": [
    "#examples for list\n",
    "list = []\n",
    "list = [10]\n",
    "list = [10,-20,15.5,'varun',\"yadav\"]"
   ]
  },
  {
   "cell_type": "code",
   "execution_count": 2,
   "id": "e8ca592f",
   "metadata": {
    "ExecuteTime": {
     "end_time": "2022-12-08T06:38:37.885842Z",
     "start_time": "2022-12-08T06:38:37.837085Z"
    }
   },
   "outputs": [
    {
     "name": "stdout",
     "output_type": "stream",
     "text": [
      "10\n",
      "-20\n",
      "15.5\n",
      "varun\n",
      "yadav\n"
     ]
    }
   ],
   "source": [
    "for i in list:print(i)"
   ]
  },
  {
   "cell_type": "code",
   "execution_count": 3,
   "id": "15d023ce",
   "metadata": {
    "ExecuteTime": {
     "end_time": "2022-12-08T06:40:09.896737Z",
     "start_time": "2022-12-08T06:40:09.872769Z"
    }
   },
   "outputs": [
    {
     "data": {
      "text/plain": [
       "10"
      ]
     },
     "execution_count": 3,
     "metadata": {},
     "output_type": "execute_result"
    }
   ],
   "source": [
    "list[0]"
   ]
  },
  {
   "cell_type": "code",
   "execution_count": 4,
   "id": "525a452f",
   "metadata": {
    "ExecuteTime": {
     "end_time": "2022-12-08T06:40:26.015790Z",
     "start_time": "2022-12-08T06:40:25.995839Z"
    }
   },
   "outputs": [
    {
     "data": {
      "text/plain": [
       "'varun'"
      ]
     },
     "execution_count": 4,
     "metadata": {},
     "output_type": "execute_result"
    }
   ],
   "source": [
    "list[3]\n"
   ]
  },
  {
   "cell_type": "code",
   "execution_count": 5,
   "id": "89e1d62b",
   "metadata": {
    "ExecuteTime": {
     "end_time": "2022-12-08T06:43:11.975417Z",
     "start_time": "2022-12-08T06:43:11.953561Z"
    }
   },
   "outputs": [
    {
     "data": {
      "text/plain": [
       "[10, -20, 15.5, 'varun']"
      ]
     },
     "execution_count": 5,
     "metadata": {},
     "output_type": "execute_result"
    }
   ],
   "source": [
    "list[0:4]"
   ]
  },
  {
   "cell_type": "code",
   "execution_count": 6,
   "id": "269355e1",
   "metadata": {
    "ExecuteTime": {
     "end_time": "2022-12-08T06:43:32.838784Z",
     "start_time": "2022-12-08T06:43:32.820910Z"
    }
   },
   "outputs": [
    {
     "data": {
      "text/plain": [
       "['varun', 'yadav']"
      ]
     },
     "execution_count": 6,
     "metadata": {},
     "output_type": "execute_result"
    }
   ],
   "source": [
    "list[3:]"
   ]
  },
  {
   "cell_type": "code",
   "execution_count": 7,
   "id": "a9a6ebd6",
   "metadata": {
    "ExecuteTime": {
     "end_time": "2022-12-08T06:44:14.258752Z",
     "start_time": "2022-12-08T06:44:14.244145Z"
    }
   },
   "outputs": [
    {
     "data": {
      "text/plain": [
       "[10,\n",
       " -20,\n",
       " 15.5,\n",
       " 'varun',\n",
       " 'yadav',\n",
       " 10,\n",
       " -20,\n",
       " 15.5,\n",
       " 'varun',\n",
       " 'yadav',\n",
       " 10,\n",
       " -20,\n",
       " 15.5,\n",
       " 'varun',\n",
       " 'yadav',\n",
       " 10,\n",
       " -20,\n",
       " 15.5,\n",
       " 'varun',\n",
       " 'yadav',\n",
       " 10,\n",
       " -20,\n",
       " 15.5,\n",
       " 'varun',\n",
       " 'yadav',\n",
       " 10,\n",
       " -20,\n",
       " 15.5,\n",
       " 'varun',\n",
       " 'yadav',\n",
       " 10,\n",
       " -20,\n",
       " 15.5,\n",
       " 'varun',\n",
       " 'yadav',\n",
       " 10,\n",
       " -20,\n",
       " 15.5,\n",
       " 'varun',\n",
       " 'yadav']"
      ]
     },
     "execution_count": 7,
     "metadata": {},
     "output_type": "execute_result"
    }
   ],
   "source": [
    "list*8"
   ]
  },
  {
   "cell_type": "code",
   "execution_count": 8,
   "id": "7832b7c6",
   "metadata": {
    "ExecuteTime": {
     "end_time": "2022-12-08T06:44:59.135192Z",
     "start_time": "2022-12-08T06:44:59.114778Z"
    }
   },
   "outputs": [
    {
     "data": {
      "text/plain": [
       "10"
      ]
     },
     "execution_count": 8,
     "metadata": {},
     "output_type": "execute_result"
    }
   ],
   "source": [
    "list[0]"
   ]
  },
  {
   "cell_type": "code",
   "execution_count": 10,
   "id": "d6413398",
   "metadata": {
    "ExecuteTime": {
     "end_time": "2022-12-08T06:45:33.843593Z",
     "start_time": "2022-12-08T06:45:33.827702Z"
    }
   },
   "outputs": [
    {
     "data": {
      "text/plain": [
       "[10, -20, 15.5, 'varun', 'yadav', 88, 88]"
      ]
     },
     "execution_count": 10,
     "metadata": {},
     "output_type": "execute_result"
    }
   ],
   "source": [
    "list.append(88)\n",
    "list"
   ]
  },
  {
   "cell_type": "code",
   "execution_count": 12,
   "id": "c0a27c88",
   "metadata": {
    "ExecuteTime": {
     "end_time": "2022-12-08T06:47:34.400819Z",
     "start_time": "2022-12-08T06:47:34.386941Z"
    }
   },
   "outputs": [],
   "source": [
    "list.insert(2,'sagarla')"
   ]
  },
  {
   "cell_type": "code",
   "execution_count": 13,
   "id": "e3273f81",
   "metadata": {
    "ExecuteTime": {
     "end_time": "2022-12-08T06:47:42.090298Z",
     "start_time": "2022-12-08T06:47:42.072703Z"
    }
   },
   "outputs": [
    {
     "data": {
      "text/plain": [
       "[10, -20, 'sagarla', 15.5, 'varun', 'yadav', 88, 88]"
      ]
     },
     "execution_count": 13,
     "metadata": {},
     "output_type": "execute_result"
    }
   ],
   "source": [
    "list"
   ]
  },
  {
   "cell_type": "code",
   "execution_count": 14,
   "id": "34089fe1",
   "metadata": {
    "ExecuteTime": {
     "end_time": "2022-12-08T06:48:07.886842Z",
     "start_time": "2022-12-08T06:48:07.870776Z"
    }
   },
   "outputs": [],
   "source": [
    "del(list[0])"
   ]
  },
  {
   "cell_type": "code",
   "execution_count": 15,
   "id": "76bc71af",
   "metadata": {
    "ExecuteTime": {
     "end_time": "2022-12-08T06:48:16.784552Z",
     "start_time": "2022-12-08T06:48:16.769174Z"
    }
   },
   "outputs": [
    {
     "data": {
      "text/plain": [
       "[-20, 'sagarla', 15.5, 'varun', 'yadav', 88, 88]"
      ]
     },
     "execution_count": 15,
     "metadata": {},
     "output_type": "execute_result"
    }
   ],
   "source": [
    "list\n"
   ]
  },
  {
   "cell_type": "code",
   "execution_count": 16,
   "id": "71f9cb6b",
   "metadata": {
    "ExecuteTime": {
     "end_time": "2022-12-08T06:49:25.000905Z",
     "start_time": "2022-12-08T06:49:24.982371Z"
    }
   },
   "outputs": [
    {
     "data": {
      "text/plain": [
       "['sagarla', 15.5, 'varun', 'yadav', 88, 88]"
      ]
     },
     "execution_count": 16,
     "metadata": {},
     "output_type": "execute_result"
    }
   ],
   "source": [
    "list.remove(-20)\n",
    "list"
   ]
  },
  {
   "cell_type": "markdown",
   "id": "ad7a0431",
   "metadata": {},
   "source": [
    "# Operations on lists\n",
    "\n",
    "\n",
    "\n",
    "1. len()---- Returns the number of elements in the list.\n",
    "2. sum()---- Returns sum of all elements in the list.\n",
    "3. max()---- Returns maximum and minimum elemets in the list\n",
    "   min()\n",
    "4. index()---Returns first occurrence of an element in the list.\n",
    "5. count()--- Returns how many times a particular element is found in the list.\n",
    "6. reverse()-- Reverse the sequence of the elements in the list.\n",
    "7. sort() ---- sorts into ascending order.\n",
    "8. sort(reverse= true)---- sorts into descending order.\n",
    "9. append()---- Adds a new element at the end of the list.\n",
    "10. insert() --- Inserts a new element at a particular position in the list.\n",
    "11. extend()---- Adds a new list to existing list.\n",
    "12. remove()---- Deletes an element from the list.\n",
    "13. del()--- Delets an element from a particular position.\n",
    "14. copy()--- Copies all the elements of a lsit into another list.\n"
   ]
  },
  {
   "cell_type": "markdown",
   "id": "d1477e93",
   "metadata": {},
   "source": [
    "# Tuple Datatype\n",
    "\n",
    "A tuple is similar to list. A tuple contains a group of elements which can be of different types. The elements in the tuple are sepearted by commas(,) and enclosed in parentheses().Whereas the list elements can be modified, it is not possible to modify the tuple elements.Tuples can be treated as a read-onlt list.\n",
    "\n",
    "Example:\n",
    "tpl = () an emplty tuple\n",
    "\n",
    "\n",
    "\n",
    "tpl = (10,) a tuple with one element\n",
    "\n",
    "\n",
    "\n",
    "tpl = (10,-20,15.5,'varun',\"yadav\") atuple with multiple elements\n",
    "\n",
    "\n",
    "Tuples once created, cannot be modified. Hence, they are called immuatble objects.\n"
   ]
  },
  {
   "cell_type": "code",
   "execution_count": 18,
   "id": "d6ecae99",
   "metadata": {
    "ExecuteTime": {
     "end_time": "2022-12-08T09:23:01.418327Z",
     "start_time": "2022-12-08T09:23:01.408353Z"
    }
   },
   "outputs": [
    {
     "data": {
      "text/plain": [
       "33"
      ]
     },
     "execution_count": 18,
     "metadata": {},
     "output_type": "execute_result"
    }
   ],
   "source": [
    "#indexing, slicing and repetition on tuples\n",
    "tpl = (33,20, 11,\"varun\",'yadav',30,40)\n",
    "tpl[0]"
   ]
  },
  {
   "cell_type": "code",
   "execution_count": 19,
   "id": "22682edc",
   "metadata": {
    "ExecuteTime": {
     "end_time": "2022-12-08T09:23:28.607207Z",
     "start_time": "2022-12-08T09:23:28.599255Z"
    }
   },
   "outputs": [
    {
     "data": {
      "text/plain": [
       "(33, 20, 11)"
      ]
     },
     "execution_count": 19,
     "metadata": {},
     "output_type": "execute_result"
    }
   ],
   "source": [
    "tpl[0:3]"
   ]
  },
  {
   "cell_type": "code",
   "execution_count": 20,
   "id": "20feff8d",
   "metadata": {
    "ExecuteTime": {
     "end_time": "2022-12-08T09:23:46.894593Z",
     "start_time": "2022-12-08T09:23:46.874644Z"
    }
   },
   "outputs": [
    {
     "data": {
      "text/plain": [
       "(33,\n",
       " 20,\n",
       " 11,\n",
       " 'varun',\n",
       " 'yadav',\n",
       " 30,\n",
       " 40,\n",
       " 33,\n",
       " 20,\n",
       " 11,\n",
       " 'varun',\n",
       " 'yadav',\n",
       " 30,\n",
       " 40,\n",
       " 33,\n",
       " 20,\n",
       " 11,\n",
       " 'varun',\n",
       " 'yadav',\n",
       " 30,\n",
       " 40,\n",
       " 33,\n",
       " 20,\n",
       " 11,\n",
       " 'varun',\n",
       " 'yadav',\n",
       " 30,\n",
       " 40,\n",
       " 33,\n",
       " 20,\n",
       " 11,\n",
       " 'varun',\n",
       " 'yadav',\n",
       " 30,\n",
       " 40)"
      ]
     },
     "execution_count": 20,
     "metadata": {},
     "output_type": "execute_result"
    }
   ],
   "source": [
    "tpl*5"
   ]
  },
  {
   "cell_type": "markdown",
   "id": "4bf4aacc",
   "metadata": {},
   "source": [
    "# Operations on Tuples\n",
    "\n",
    "\n",
    "1.len() ----- Returns the number of elements in tuple.\n",
    "\n",
    "\n",
    "2.sum() ----- Returns sum of all elements in the tuple.\n",
    "\n",
    "\n",
    "3.max() ----- returns maximun and minimun elements in tuple\n",
    "  min()\n",
    "  \n",
    "  \n",
    "4.index() ---- Returns first occurrence of an element in the tuple.\n",
    "\n",
    "\n",
    "5.count() ----- Returns how many times an element is found in the tuple.\n",
    "\n",
    "\n",
    "6.sorted() ----- sorts all elements of the tuple into ascending order.\n",
    "\n",
    "\n",
    "7.sorted(reverse=True0 ------ sorts all elements of the tuple into descending order."
   ]
  },
  {
   "cell_type": "markdown",
   "id": "a3bbfed9",
   "metadata": {},
   "source": [
    "# sets\n",
    "\n",
    "A set is an unordered collection of elements much like a set in Mathematics. The order of elements is not maintained in the sets.A set does not accept the duplicate elements.\n",
    "\n",
    "There are two types in sets:\n",
    "\n",
    "1. set datatype\n",
    "\n",
    "2. forzenset datatype"
   ]
  },
  {
   "cell_type": "code",
   "execution_count": 21,
   "id": "5af8e8fd",
   "metadata": {
    "ExecuteTime": {
     "end_time": "2022-12-08T09:38:10.236655Z",
     "start_time": "2022-12-08T09:38:10.222662Z"
    }
   },
   "outputs": [
    {
     "name": "stdout",
     "output_type": "stream",
     "text": [
      "{1, 2, 5, 6, 9, 42}\n"
     ]
    }
   ],
   "source": [
    "# to crate a set, we should enter the elements seprated by comma(,) inside curly braces{}.\n",
    "s = {5,6,9,1,2,42,2,6}\n",
    "print(s)"
   ]
  },
  {
   "cell_type": "code",
   "execution_count": 22,
   "id": "1db6dd12",
   "metadata": {
    "ExecuteTime": {
     "end_time": "2022-12-08T09:40:09.230160Z",
     "start_time": "2022-12-08T09:40:09.118568Z"
    }
   },
   "outputs": [
    {
     "name": "stdout",
     "output_type": "stream",
     "text": [
      "{'h', 'e', 'o', 'l'}\n"
     ]
    }
   ],
   "source": [
    "ch = set(\"hello\")\n",
    "print(ch)"
   ]
  },
  {
   "cell_type": "code",
   "execution_count": 24,
   "id": "e4d25ee2",
   "metadata": {
    "ExecuteTime": {
     "end_time": "2022-12-08T09:41:02.354557Z",
     "start_time": "2022-12-08T09:41:02.336604Z"
    }
   },
   "outputs": [
    {
     "name": "stdout",
     "output_type": "stream",
     "text": [
      "{1, 2, 5, 6, 9}\n"
     ]
    }
   ],
   "source": [
    "lst =[1,2,5,6,9,9,6]\n",
    "s = set(lst)\n",
    "print(s)"
   ]
  },
  {
   "cell_type": "code",
   "execution_count": 27,
   "id": "62c7a370",
   "metadata": {
    "ExecuteTime": {
     "end_time": "2022-12-08T09:58:59.697448Z",
     "start_time": "2022-12-08T09:58:59.679454Z"
    }
   },
   "outputs": [
    {
     "data": {
      "text/plain": [
       "'lst =[1,2,5,6,9,9,6]\\ns = set(lst)\\nprint(s[0])\\nprint(s[0:2])'"
      ]
     },
     "execution_count": 27,
     "metadata": {},
     "output_type": "execute_result"
    }
   ],
   "source": [
    "#we cannot perform indexing and slicing on sets because there is no importance for postions of elements.\n",
    "'''lst =[1,2,5,6,9,9,6]\n",
    "s = set(lst)\n",
    "print(s[0])\n",
    "print(s[0:2])'''"
   ]
  },
  {
   "cell_type": "code",
   "execution_count": 28,
   "id": "bb19b4ef",
   "metadata": {
    "ExecuteTime": {
     "end_time": "2022-12-08T10:01:24.659117Z",
     "start_time": "2022-12-08T10:01:24.645421Z"
    }
   },
   "outputs": [
    {
     "data": {
      "text/plain": [
       "{1, 2, 3, 4}"
      ]
     },
     "execution_count": 28,
     "metadata": {},
     "output_type": "execute_result"
    }
   ],
   "source": [
    "# But sets can be modified. That means once set is created, we can change the elements of it. For example, let us add new element to our set using add() method as\n",
    "s = set([1,2,3,4])\n",
    "s"
   ]
  },
  {
   "cell_type": "code",
   "execution_count": 30,
   "id": "8e72310a",
   "metadata": {
    "ExecuteTime": {
     "end_time": "2022-12-08T10:01:47.398213Z",
     "start_time": "2022-12-08T10:01:47.375376Z"
    }
   },
   "outputs": [
    {
     "data": {
      "text/plain": [
       "{1, 2, 3, 4, 121}"
      ]
     },
     "execution_count": 30,
     "metadata": {},
     "output_type": "execute_result"
    }
   ],
   "source": [
    "s.add(121)\n",
    "s"
   ]
  },
  {
   "cell_type": "code",
   "execution_count": 31,
   "id": "4797b416",
   "metadata": {
    "ExecuteTime": {
     "end_time": "2022-12-08T10:02:32.151454Z",
     "start_time": "2022-12-08T10:02:32.128574Z"
    }
   },
   "outputs": [
    {
     "name": "stdout",
     "output_type": "stream",
     "text": [
      "{1, 2, 3, 4, 50, 121, 60}\n"
     ]
    }
   ],
   "source": [
    "s.update([50,60])\n",
    "print(s)"
   ]
  },
  {
   "cell_type": "code",
   "execution_count": 39,
   "id": "267ff481",
   "metadata": {
    "ExecuteTime": {
     "end_time": "2022-12-08T10:05:33.758790Z",
     "start_time": "2022-12-08T10:05:33.740531Z"
    }
   },
   "outputs": [
    {
     "name": "stdout",
     "output_type": "stream",
     "text": [
      "{0, 2, 3, 4, 6, 7, 8, 9, 66, 76, 77, 55}\n"
     ]
    }
   ],
   "source": [
    "s={5,6,7,8,9,0,2,3,4,55,6,66,76,76,77}\n",
    "s.remove(5)\n",
    "print(s)"
   ]
  },
  {
   "cell_type": "markdown",
   "id": "54aeeb28",
   "metadata": {},
   "source": [
    "# Frozenset Datatype\n",
    "The frozenset datatype is same as the set datatype. The main difference is that the elements in the set datatype can be modified;whereas, the elements of foraenset cannot be modified."
   ]
  },
  {
   "cell_type": "markdown",
   "id": "9c2a8ef2",
   "metadata": {},
   "source": [
    "# Mapping types\n",
    "A map represents a group of elements in form of key_ value so that when the key is given, we can retrive the value associated with it."
   ]
  },
  {
   "cell_type": "code",
   "execution_count": 41,
   "id": "4172371d",
   "metadata": {
    "ExecuteTime": {
     "end_time": "2022-12-08T11:50:47.769222Z",
     "start_time": "2022-12-08T11:50:47.753088Z"
    }
   },
   "outputs": [
    {
     "data": {
      "text/plain": [
       "'pranav'"
      ]
     },
     "execution_count": 41,
     "metadata": {},
     "output_type": "execute_result"
    }
   ],
   "source": [
    "d ={10:'kaal',11:'pranav',12:'hasini',13:'Anup',14:'Reethu'}\n",
    "d[11]"
   ]
  }
 ],
 "metadata": {
  "gist": {
   "data": {
    "description": "chapter 2.ipynb",
    "public": false
   },
   "id": ""
  },
  "kernelspec": {
   "display_name": "Python 3 (ipykernel)",
   "language": "python",
   "name": "python3"
  },
  "language_info": {
   "codemirror_mode": {
    "name": "ipython",
    "version": 3
   },
   "file_extension": ".py",
   "mimetype": "text/x-python",
   "name": "python",
   "nbconvert_exporter": "python",
   "pygments_lexer": "ipython3",
   "version": "3.9.12"
  }
 },
 "nbformat": 4,
 "nbformat_minor": 5
}
