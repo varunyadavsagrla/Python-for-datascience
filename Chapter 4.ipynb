{
 "cells": [
  {
   "cell_type": "markdown",
   "id": "3223b74f",
   "metadata": {},
   "source": [
    "#  INPUT AND OUTPUT\n",
    "\n",
    "The purpose of a computer is to process data and return results. It means that first of all, we should provide data to computer.The data given to the computer is called input.The result returned by the computers are called output.\n",
    "\n",
    "We will discuss the input and output statements , but in following order\n",
    "\n",
    "1. Output statements: To display output or results, Python provides the print() function. this function can be used in different                       formats which ae hereunder.\n",
    "\n",
    "2. Input statements:  To accept input from keyboard, Python provides the input() function. This function takes a  value from the                       keyboard and returns it as a string.\n",
    "\n"
   ]
  },
  {
   "cell_type": "markdown",
   "id": "e1768d7b",
   "metadata": {},
   "source": [
    "# The print() statement\n",
    "\n",
    "When the print() function is called simply, it will throw the cursor to the next line. it means that a blank line will be displayed."
   ]
  },
  {
   "cell_type": "markdown",
   "id": "a57a842c",
   "metadata": {},
   "source": [
    "# The print(\"string\") statement\n",
    "\n",
    "A string represents a group of characters. When a string is passes to print() function, the string is displayed as it is."
   ]
  },
  {
   "cell_type": "code",
   "execution_count": 1,
   "id": "1030686e",
   "metadata": {
    "ExecuteTime": {
     "end_time": "2022-12-10T13:15:56.861948Z",
     "start_time": "2022-12-10T13:15:56.828045Z"
    }
   },
   "outputs": [
    {
     "name": "stdout",
     "output_type": "stream",
     "text": [
      "hello\n",
      "hello\n",
      "This is the /nfirst line\n"
     ]
    }
   ],
   "source": [
    "#Examples for print(\"string\") statement.\n",
    "print(\"hello\")\n",
    "print('hello')\n",
    "print(\"This is the nfirst line\")"
   ]
  },
  {
   "cell_type": "code",
   "execution_count": 2,
   "id": "d900389b",
   "metadata": {
    "ExecuteTime": {
     "end_time": "2022-12-10T13:17:51.978716Z",
     "start_time": "2022-12-10T13:17:51.959765Z"
    }
   },
   "outputs": [
    {
     "name": "stdout",
     "output_type": "stream",
     "text": [
      "VarunVarunVarun\n",
      "City name =Hyderabad\n",
      "City name= Hyderabad\n"
     ]
    }
   ],
   "source": [
    "print(3*'Varun')\n",
    "print(\"City name =\"+\"Hyderabad\")\n",
    "print(\"City name=\", \"Hyderabad\")"
   ]
  },
  {
   "cell_type": "markdown",
   "id": "a649f46d",
   "metadata": {},
   "source": [
    "# The print(variables list) Statement\n",
    "\n",
    "We can also display the values of variables using print() function. A list of variable can be supplied to the print() function"
   ]
  },
  {
   "cell_type": "code",
   "execution_count": 3,
   "id": "3bff1950",
   "metadata": {
    "ExecuteTime": {
     "end_time": "2022-12-10T13:22:45.683721Z",
     "start_time": "2022-12-10T13:22:45.667826Z"
    }
   },
   "outputs": [
    {
     "name": "stdout",
     "output_type": "stream",
     "text": [
      "2 4 6 8.9\n",
      "2,4,6,8.9\n",
      "2:4:6:8.9\n",
      "2--------4\n"
     ]
    }
   ],
   "source": [
    "# examples\n",
    "a,b,c,d = 2,4,6,8.9\n",
    "print(a,b,c,d)\n",
    "print(a,b,c,d, sep=\",\")\n",
    "print(a,b,c,d, sep=\":\")\n",
    "print(a,b, sep='--------')"
   ]
  },
  {
   "cell_type": "code",
   "execution_count": 4,
   "id": "0e51e6f7",
   "metadata": {
    "ExecuteTime": {
     "end_time": "2022-12-10T13:24:50.275847Z",
     "start_time": "2022-12-10T13:24:50.258803Z"
    }
   },
   "outputs": [
    {
     "name": "stdout",
     "output_type": "stream",
     "text": [
      "hello\n",
      "Dear\n",
      "how r u?\n"
     ]
    }
   ],
   "source": [
    "print(\"hello\")\n",
    "print(\"Dear\")\n",
    "print('how r u?')\n"
   ]
  },
  {
   "cell_type": "code",
   "execution_count": 5,
   "id": "1bfc392b",
   "metadata": {
    "ExecuteTime": {
     "end_time": "2022-12-10T13:26:11.776557Z",
     "start_time": "2022-12-10T13:26:11.755640Z"
    }
   },
   "outputs": [
    {
     "name": "stdout",
     "output_type": "stream",
     "text": [
      "helloDearHow are u?"
     ]
    }
   ],
   "source": [
    "print(\"hello\", end='')\n",
    "print(\"Dear\", end='')\n",
    "print('How are u?', end='')"
   ]
  },
  {
   "cell_type": "markdown",
   "id": "262ea17b",
   "metadata": {},
   "source": [
    "# The print(object) statement\n",
    "\n",
    "We can pass objects like lists, tuples or dictionaries to print() function to display the elements of those objects."
   ]
  },
  {
   "cell_type": "code",
   "execution_count": 6,
   "id": "2d475b5b",
   "metadata": {
    "ExecuteTime": {
     "end_time": "2022-12-10T14:29:19.103250Z",
     "start_time": "2022-12-10T14:29:19.058119Z"
    }
   },
   "outputs": [
    {
     "name": "stdout",
     "output_type": "stream",
     "text": [
      "[10, 'A', 'Hai']\n",
      "{'idly': 30.0, 'Roti': 45.0, 'chapati': 55.5}\n"
     ]
    }
   ],
   "source": [
    "lst = [10,'A','Hai']\n",
    "print(lst)\n",
    "d = {'idly': 30.00, 'Roti':45.00, 'chapati':55.50}\n",
    "print(d)"
   ]
  },
  {
   "cell_type": "markdown",
   "id": "3f22755b",
   "metadata": {},
   "source": [
    "# The print(\"string\", variables list) Statement\n",
    "\n",
    "The most common use of the print() function is to use strings along with variables inside the print() function."
   ]
  },
  {
   "cell_type": "code",
   "execution_count": 7,
   "id": "260ae7e1",
   "metadata": {
    "ExecuteTime": {
     "end_time": "2022-12-10T14:31:49.189560Z",
     "start_time": "2022-12-10T14:31:49.175569Z"
    }
   },
   "outputs": [
    {
     "name": "stdout",
     "output_type": "stream",
     "text": [
      "2 is even number\n",
      "you typed 2 as input\n"
     ]
    }
   ],
   "source": [
    "#examples\n",
    "a=2\n",
    "print(a,\"is even number\")\n",
    "print(\"you typed\",a ,\"as input\")"
   ]
  },
  {
   "cell_type": "markdown",
   "id": "513956e6",
   "metadata": {},
   "source": [
    "# The print(formatted string) Statement\n",
    "\n",
    "The output displayed by tht print() function can be formatted as we like. The special operator% can be used for this purpose. it joins a string with a variable or value in the following foramt."
   ]
  },
  {
   "cell_type": "code",
   "execution_count": 11,
   "id": "0a5a147f",
   "metadata": {
    "ExecuteTime": {
     "end_time": "2022-12-10T14:38:30.246582Z",
     "start_time": "2022-12-10T14:38:30.233831Z"
    }
   },
   "outputs": [
    {
     "name": "stdout",
     "output_type": "stream",
     "text": [
      "values=10\n"
     ]
    }
   ],
   "source": [
    "#Examples\n",
    "x =10\n",
    "print('values=%i'%x)\n",
    "\n"
   ]
  },
  {
   "cell_type": "code",
   "execution_count": 10,
   "id": "143afe08",
   "metadata": {
    "ExecuteTime": {
     "end_time": "2022-12-10T14:38:18.996565Z",
     "start_time": "2022-12-10T14:38:18.975721Z"
    }
   },
   "outputs": [
    {
     "name": "stdout",
     "output_type": "stream",
     "text": [
      "x= 10 y = 15\n"
     ]
    }
   ],
   "source": [
    "x,y = 10,15\n",
    "print(\"x= %i y = %d\" %(x,y))\n"
   ]
  },
  {
   "cell_type": "code",
   "execution_count": 12,
   "id": "728595fb",
   "metadata": {
    "ExecuteTime": {
     "end_time": "2022-12-10T14:39:24.848149Z",
     "start_time": "2022-12-10T14:39:24.836221Z"
    }
   },
   "outputs": [
    {
     "name": "stdout",
     "output_type": "stream",
     "text": [
      "hai varun\n"
     ]
    }
   ],
   "source": [
    "name ='varun'\n",
    "print('hai %s' %name)"
   ]
  },
  {
   "cell_type": "code",
   "execution_count": 14,
   "id": "d5003a1b",
   "metadata": {
    "ExecuteTime": {
     "end_time": "2022-12-10T14:40:47.287375Z",
     "start_time": "2022-12-10T14:40:47.271903Z"
    }
   },
   "outputs": [
    {
     "name": "stdout",
     "output_type": "stream",
     "text": [
      "Hai (                         varun)\n"
     ]
    }
   ],
   "source": [
    "print('Hai (%30s)' %name)"
   ]
  },
  {
   "cell_type": "code",
   "execution_count": 15,
   "id": "d5af96de",
   "metadata": {
    "ExecuteTime": {
     "end_time": "2022-12-10T14:41:22.686012Z",
     "start_time": "2022-12-10T14:41:22.673851Z"
    }
   },
   "outputs": [
    {
     "name": "stdout",
     "output_type": "stream",
     "text": [
      "hai (varun               )\n"
     ]
    }
   ],
   "source": [
    "print('hai (%-20s)' %name)"
   ]
  },
  {
   "cell_type": "markdown",
   "id": "cce62989",
   "metadata": {},
   "source": [
    "# Input statements\n",
    "\n",
    "To accept input from keyboard, python provides the input() function. This function takes a value from the keyboard and returns it as a string.\n",
    "\n",
    "Example:\n",
    "\n",
    "str = input() # This will wait till we enter a string\n",
    "Varun yadav   #Enter this string\n",
    "\n",
    "print(str) gives out put as varun yadav\n"
   ]
  },
  {
   "cell_type": "code",
   "execution_count": 1,
   "id": "e650d9db",
   "metadata": {
    "ExecuteTime": {
     "end_time": "2022-12-12T04:50:04.943916Z",
     "start_time": "2022-12-12T04:49:55.946228Z"
    }
   },
   "outputs": [
    {
     "name": "stdout",
     "output_type": "stream",
     "text": [
      "Enter your name:varun\n",
      "varun\n"
     ]
    }
   ],
   "source": [
    "# Example for input statement\n",
    "str = input('Enter your name:')\n",
    "print(str)\n"
   ]
  },
  {
   "cell_type": "code",
   "execution_count": 3,
   "id": "6b502e8c",
   "metadata": {
    "ExecuteTime": {
     "end_time": "2022-12-12T04:53:46.103635Z",
     "start_time": "2022-12-12T04:53:43.447600Z"
    }
   },
   "outputs": [
    {
     "name": "stdout",
     "output_type": "stream",
     "text": [
      "enter a number:100\n",
      "100\n"
     ]
    }
   ],
   "source": [
    "str = input('enter a number:')\n",
    "x = int(str)\n",
    "print(x) "
   ]
  },
  {
   "cell_type": "code",
   "execution_count": 4,
   "id": "8a036f96",
   "metadata": {
    "ExecuteTime": {
     "end_time": "2022-12-12T05:10:32.948773Z",
     "start_time": "2022-12-12T05:10:26.850668Z"
    }
   },
   "outputs": [
    {
     "name": "stdout",
     "output_type": "stream",
     "text": [
      "enter a string:varun\n",
      "u entered: varun\n"
     ]
    }
   ],
   "source": [
    "# Progran to accept a string from keyboard and display it\n",
    "str = input(\"enter a string:\")\n",
    "print('u entered:',str)"
   ]
  },
  {
   "cell_type": "code",
   "execution_count": 5,
   "id": "a12dfb5c",
   "metadata": {
    "ExecuteTime": {
     "end_time": "2022-12-12T05:11:48.394257Z",
     "start_time": "2022-12-12T05:11:34.704328Z"
    }
   },
   "outputs": [
    {
     "name": "stdout",
     "output_type": "stream",
     "text": [
      "enter a ch:abcdef\n",
      "u entered: abcdef\n"
     ]
    }
   ],
   "source": [
    "# program to accept character as a string\n",
    "ch = input(\"enter a ch:\")\n",
    "print(\"u entered:\", ch)"
   ]
  },
  {
   "cell_type": "code",
   "execution_count": 7,
   "id": "ab875b87",
   "metadata": {
    "ExecuteTime": {
     "end_time": "2022-12-12T05:13:37.786033Z",
     "start_time": "2022-12-12T05:13:34.754976Z"
    }
   },
   "outputs": [
    {
     "name": "stdout",
     "output_type": "stream",
     "text": [
      "enter a char:abcd\n",
      "u entered:a\n"
     ]
    }
   ],
   "source": [
    "# program to accept single character from keyboard\n",
    "ch = input(\"enter a char:\")\n",
    "print('u entered:'+ch[0])"
   ]
  },
  {
   "cell_type": "code",
   "execution_count": 8,
   "id": "288d9a91",
   "metadata": {
    "ExecuteTime": {
     "end_time": "2022-12-12T05:15:08.579462Z",
     "start_time": "2022-12-12T05:15:01.961300Z"
    }
   },
   "outputs": [
    {
     "name": "stdout",
     "output_type": "stream",
     "text": [
      "enter a number:7997473\n",
      "u entered: 7997473\n"
     ]
    }
   ],
   "source": [
    "# program to accept integer from keyboard\n",
    "str = input('enter a number:')\n",
    "x = int(str)\n",
    "print('u entered:', x)"
   ]
  },
  {
   "cell_type": "code",
   "execution_count": 10,
   "id": "476bb102",
   "metadata": {
    "ExecuteTime": {
     "end_time": "2022-12-12T05:18:24.828717Z",
     "start_time": "2022-12-12T05:18:20.115529Z"
    }
   },
   "outputs": [
    {
     "name": "stdout",
     "output_type": "stream",
     "text": [
      "enter a number:10\n",
      "enter b number:20\n",
      "u entered: 10 20\n"
     ]
    }
   ],
   "source": [
    "# program to accept two integer from keyboard\n",
    "A = int(input('enter a number:'))\n",
    "B = int(input('enter b number:'))\n",
    "print('u entered:',A,B)"
   ]
  },
  {
   "cell_type": "code",
   "execution_count": 11,
   "id": "f633316f",
   "metadata": {
    "ExecuteTime": {
     "end_time": "2022-12-12T05:20:14.841733Z",
     "start_time": "2022-12-12T05:20:09.657605Z"
    }
   },
   "outputs": [
    {
     "name": "stdout",
     "output_type": "stream",
     "text": [
      "enter a number:20\n",
      "enter b number:30\n",
      "the sum of two numbers: 50\n"
     ]
    }
   ],
   "source": [
    "# program to accept two number and find their sum\n",
    "A = int(input('enter a number:'))\n",
    "B = int(input('enter b number:'))\n",
    "print('the sum of two numbers:', A+B)\n",
    "\n"
   ]
  },
  {
   "cell_type": "code",
   "execution_count": 12,
   "id": "80c61480",
   "metadata": {
    "ExecuteTime": {
     "end_time": "2022-12-12T05:22:34.378457Z",
     "start_time": "2022-12-12T05:22:26.858724Z"
    }
   },
   "outputs": [
    {
     "name": "stdout",
     "output_type": "stream",
     "text": [
      "enter three numbers:10,20,30\n",
      "sum= 60\n"
     ]
    }
   ],
   "source": [
    "# program to accept 3 integres in same line and display the sum\n",
    "var1,var2,var3 = [int(x) for x in input(\"enter three numbers:\").split(',')]\n",
    "print('sum=',var1+var2+var3)"
   ]
  }
 ],
 "metadata": {
  "kernelspec": {
   "display_name": "Python 3 (ipykernel)",
   "language": "python",
   "name": "python3"
  },
  "language_info": {
   "codemirror_mode": {
    "name": "ipython",
    "version": 3
   },
   "file_extension": ".py",
   "mimetype": "text/x-python",
   "name": "python",
   "nbconvert_exporter": "python",
   "pygments_lexer": "ipython3",
   "version": "3.9.12"
  }
 },
 "nbformat": 4,
 "nbformat_minor": 5
}
